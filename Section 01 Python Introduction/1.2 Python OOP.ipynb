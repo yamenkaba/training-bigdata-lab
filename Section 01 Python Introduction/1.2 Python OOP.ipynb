{
 "cells": [
  {
   "cell_type": "code",
   "execution_count": 1,
   "metadata": {},
   "outputs": [],
   "source": [
    "import csv\n",
    "\n",
    "# How to create a class:\n",
    "class Item:\n",
    "    pay_rate = 0.2\n",
    "    all = []\n",
    "\n",
    "    def __init__(self, name: str, price: float, quantity=0):\n",
    "        # Run validations to the received arguments\n",
    "        assert price >= 0, f\"Price {price} is not greater than or equal to zero!\"\n",
    "        assert quantity >= 0, f\"Quantity {quantity} is not greater or equal to zero!\"\n",
    "\n",
    "        self.name = name\n",
    "        self.price = price\n",
    "        self.quantity = quantity\n",
    "\n",
    "    def calculate_total_price(self):\n",
    "        return self.price * self.quantity\n",
    "\n",
    "    def apply_discount(self):\n",
    "        self.price = self.price * self.pay_rate\n",
    "        return self.price\n",
    "\n",
    "    def __repr__(self):\n",
    "        return f\"Item('{self.name}', {self.price}, {self.quantity})\"\n",
    "\n",
    "    # Class methods are often used to interact with class attributes\n",
    "    @classmethod\n",
    "    def instantiate_from_csv(cls):\n",
    "        with open('../data/items.csv', 'r') as f:\n",
    "            reader = csv.DictReader(f)\n",
    "            items = list(reader)\n",
    "\n",
    "        for item in items:\n",
    "            cls.all.append(\n",
    "                Item(\n",
    "                    name=item.get('name'),\n",
    "                    price=float(item.get('price')),\n",
    "                    quantity=int(item.get('quantity')),\n",
    "                )\n",
    "            )\n",
    "\n",
    "    # Static methods are methods that does not do any changes to the object\n",
    "    @staticmethod\n",
    "    def is_integer(num):\n",
    "        # We will count out the floats that are point zero\n",
    "        # For i.e: 5.0, 10.0\n",
    "        if isinstance(num, float):\n",
    "            # Count out the floats that are point zero\n",
    "            return num.is_integer()\n",
    "        elif isinstance(num, int):\n",
    "            return True\n",
    "        else:\n",
    "            return False"
   ]
  },
  {
   "cell_type": "code",
   "execution_count": 2,
   "metadata": {},
   "outputs": [
    {
     "name": "stdout",
     "output_type": "stream",
     "text": [
      "The type is an object if class <class '__main__.Item'>\n"
     ]
    }
   ],
   "source": [
    "print(f\"The type is an object if class {type(Item(name='Phone', price=100, quantity=5))}\")"
   ]
  },
  {
   "cell_type": "code",
   "execution_count": 3,
   "metadata": {},
   "outputs": [
    {
     "name": "stdout",
     "output_type": "stream",
     "text": [
      "Calculate item1 total price: 500\n",
      "Calculate item2 total price: 3000\n",
      "Calculate item1 total discounted price: 40.0\n",
      "Calculate item2 total discounted price: 400.0\n"
     ]
    }
   ],
   "source": [
    "# How to create an instance of a class\n",
    "item1 = Item(name=\"Phone\", price=100, quantity=5)\n",
    "\n",
    "# Calling methods from instances of a class:\n",
    "print(f\"Calculate item1 total price: {item1.calculate_total_price()}\")\n",
    "\n",
    "# How to create an instance of a class (We could create as much as instances we'd like to)\n",
    "item2 = Item(name=\"Phone\", price=1000, quantity=3)\n",
    "\n",
    "# Calling methods from instances of a class: \n",
    "print(f\"Calculate item2 total price: {item2.calculate_total_price()}\")\n",
    "\n",
    "# Apply the discount\n",
    "Item.pay_rate = 0.4\n",
    "print(f\"Calculate item1 total discounted price: {item1.apply_discount()}\")\n",
    "\n",
    "# Apply the discount\n",
    "print(f\"Calculate item2 total discounted price: {item2.apply_discount()}\")"
   ]
  },
  {
   "cell_type": "code",
   "execution_count": 4,
   "metadata": {},
   "outputs": [
    {
     "name": "stdout",
     "output_type": "stream",
     "text": [
      "[Item('Phone', 100.0, 1), Item('Laptop', 1000.0, 3), Item('Cable', 10.0, 5), Item('Mouse', 50.0, 5), Item('Keyboard', 75.0, 5)]\n"
     ]
    }
   ],
   "source": [
    "Item.instantiate_from_csv()\n",
    "\n",
    "# Add instances as a list\n",
    "print(Item.all)"
   ]
  }
 ],
 "metadata": {
  "kernelspec": {
   "display_name": "base",
   "language": "python",
   "name": "python3"
  },
  "language_info": {
   "codemirror_mode": {
    "name": "ipython",
    "version": 3
   },
   "file_extension": ".py",
   "mimetype": "text/x-python",
   "name": "python",
   "nbconvert_exporter": "python",
   "pygments_lexer": "ipython3",
   "version": "3.9.13"
  },
  "orig_nbformat": 4,
  "vscode": {
   "interpreter": {
    "hash": "7bca6972f02c1a222e0c9c89cdcff49d74f14619c7ac3f68915954ccf38f66b2"
   }
  }
 },
 "nbformat": 4,
 "nbformat_minor": 2
}
