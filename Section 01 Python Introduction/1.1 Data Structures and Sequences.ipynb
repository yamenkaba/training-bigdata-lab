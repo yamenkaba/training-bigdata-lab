{
 "cells": [
  {
   "cell_type": "markdown",
   "id": "bd9cbe66-345f-4191-8da4-6f8048d5960b",
   "metadata": {},
   "source": [
    "<h1>Data Structures and Sequences</h1>\n",
    "\n",
    "Python’s data structures are simple but powerful. Mastering their use is a critical part of becoming a proficient Python programmer. We start with tuple, list, and dictionary, which are some of the most frequently used `sequence` types."
   ]
  },
  {
   "cell_type": "markdown",
   "id": "6ea05103",
   "metadata": {},
   "source": [
    "<h2>Tuple</h2>\n",
    "\n",
    "A tuple is a fixed-length, immutable sequence of Python objects which, once assigned, cannot be changed. The easiest way to create one is with a comma-separated sequence of values wrapped in parentheses:"
   ]
  },
  {
   "cell_type": "code",
   "execution_count": 1,
   "id": "5a3ffaef",
   "metadata": {},
   "outputs": [
    {
     "data": {
      "text/plain": [
       "(43, 54, 16)"
      ]
     },
     "execution_count": 1,
     "metadata": {},
     "output_type": "execute_result"
    }
   ],
   "source": [
    "tup_data = (43, 54, 16)\n",
    "\n",
    "tup_data"
   ]
  },
  {
   "cell_type": "markdown",
   "id": "d188b7ee",
   "metadata": {},
   "source": [
    "You can convert any sequence or iterator to a tuple by invoking `tuple`:"
   ]
  },
  {
   "cell_type": "code",
   "execution_count": 2,
   "id": "84cc621c",
   "metadata": {},
   "outputs": [
    {
     "data": {
      "text/plain": [
       "('s', 't', 'r', 'i', 'n', 'g')"
      ]
     },
     "execution_count": 2,
     "metadata": {},
     "output_type": "execute_result"
    }
   ],
   "source": [
    "tuple([4, 0, 2])\n",
    "\n",
    "tup = tuple('string')\n",
    "\n",
    "tup"
   ]
  },
  {
   "cell_type": "markdown",
   "id": "8839b028",
   "metadata": {},
   "source": [
    "Elements can be accessed with square brackets [] as with most other sequence types. As in C, C++, Java, and many other languages, sequences are 0-indexed in Python:"
   ]
  },
  {
   "cell_type": "code",
   "execution_count": 3,
   "id": "434302ed",
   "metadata": {},
   "outputs": [
    {
     "data": {
      "text/plain": [
       "'s'"
      ]
     },
     "execution_count": 3,
     "metadata": {},
     "output_type": "execute_result"
    }
   ],
   "source": [
    "tup[0]"
   ]
  },
  {
   "cell_type": "markdown",
   "id": "c6d40ca4",
   "metadata": {},
   "source": [
    "When you're defining tuples within more complicated expressions, it’s often necessary to enclose the values in parentheses, as in this example of creating a tuple of tuples:"
   ]
  },
  {
   "cell_type": "code",
   "execution_count": 4,
   "id": "8fbc7931",
   "metadata": {},
   "outputs": [
    {
     "data": {
      "text/plain": [
       "((4, 5, 6), (7, 8))"
      ]
     },
     "execution_count": 4,
     "metadata": {},
     "output_type": "execute_result"
    }
   ],
   "source": [
    "nested_tup = (4, 5, 6), (7, 8)\n",
    "\n",
    "nested_tup"
   ]
  },
  {
   "cell_type": "code",
   "execution_count": 5,
   "id": "2aa4416a",
   "metadata": {},
   "outputs": [
    {
     "data": {
      "text/plain": [
       "(7, 8)"
      ]
     },
     "execution_count": 5,
     "metadata": {},
     "output_type": "execute_result"
    }
   ],
   "source": [
    "nested_tup[1]"
   ]
  },
  {
   "cell_type": "markdown",
   "id": "8c7651a0",
   "metadata": {},
   "source": [
    "While the objects stored in a tuple may be mutable themselves, once the tuple is created it’s not possible to modify which object is stored in each slot:"
   ]
  },
  {
   "cell_type": "code",
   "execution_count": 6,
   "id": "7e8801be",
   "metadata": {},
   "outputs": [],
   "source": [
    "tup_data = tuple(['foo', [1, 2], True])"
   ]
  },
  {
   "cell_type": "code",
   "execution_count": 7,
   "id": "fce8cd35",
   "metadata": {},
   "outputs": [],
   "source": [
    "# Error\n",
    "# tup_data[2] = False"
   ]
  },
  {
   "cell_type": "markdown",
   "id": "1cdb5002",
   "metadata": {},
   "source": [
    "If an object inside a tuple is mutable, such as a list, you can modify it in place:"
   ]
  },
  {
   "cell_type": "code",
   "execution_count": 8,
   "id": "3f9c935f",
   "metadata": {},
   "outputs": [
    {
     "data": {
      "text/plain": [
       "('foo', [1, 2, 3], True)"
      ]
     },
     "execution_count": 8,
     "metadata": {},
     "output_type": "execute_result"
    }
   ],
   "source": [
    "tup_data[1].append(3)\n",
    "\n",
    "tup_data"
   ]
  },
  {
   "cell_type": "markdown",
   "id": "9f679f4d",
   "metadata": {},
   "source": [
    "<h3>Unpacking tuples</h3>"
   ]
  },
  {
   "cell_type": "code",
   "execution_count": 9,
   "id": "e5c19b0c",
   "metadata": {},
   "outputs": [
    {
     "data": {
      "text/plain": [
       "54"
      ]
     },
     "execution_count": 9,
     "metadata": {},
     "output_type": "execute_result"
    }
   ],
   "source": [
    "tup_data = (43, 54, 126)\n",
    "\n",
    "a, b, c = tup_data\n",
    "\n",
    "b"
   ]
  },
  {
   "cell_type": "markdown",
   "id": "01b3c76b",
   "metadata": {},
   "source": [
    "Even sequences with nested tuples can be unpacked:"
   ]
  },
  {
   "cell_type": "code",
   "execution_count": 10,
   "id": "504dba59",
   "metadata": {},
   "outputs": [],
   "source": [
    "tup_data = 4, 5, (6, 7)\n",
    "\n",
    "a, b, (c, d) = tup_data"
   ]
  },
  {
   "cell_type": "markdown",
   "id": "1befe50a",
   "metadata": {},
   "source": [
    "In Python, the swap can be done like this:"
   ]
  },
  {
   "cell_type": "code",
   "execution_count": 11,
   "id": "3a2a9955",
   "metadata": {},
   "outputs": [],
   "source": [
    "a, b = 41, 23\n",
    "\n",
    "b, a = a, b"
   ]
  },
  {
   "cell_type": "markdown",
   "id": "dfe80786",
   "metadata": {},
   "source": [
    "A common use of variable unpacking is iterating over sequences of tuples or lists:"
   ]
  },
  {
   "cell_type": "code",
   "execution_count": 12,
   "id": "53da6257",
   "metadata": {},
   "outputs": [
    {
     "name": "stdout",
     "output_type": "stream",
     "text": [
      "a=1, b=2, c=3\n",
      "a=4, b=5, c=6\n",
      "a=7, b=8, c=9\n"
     ]
    }
   ],
   "source": [
    "seq = [(1, 2, 3), (4, 5, 6), (7, 8, 9)]\n",
    "\n",
    "for a, b, c in seq:\n",
    "    print(f'a={a}, b={b}, c={c}')"
   ]
  },
  {
   "cell_type": "markdown",
   "id": "0abe95c6",
   "metadata": {},
   "source": [
    "There are some situations where you may want to \"pluck\" a few elements from the beginning of a tuple. There is a special syntax that can do this, *rest, which is also used in function signatures to capture an arbitrarily long list of positional arguments:"
   ]
  },
  {
   "cell_type": "code",
   "execution_count": 13,
   "id": "a752be74",
   "metadata": {},
   "outputs": [
    {
     "data": {
      "text/plain": [
       "[3, 4, 5]"
      ]
     },
     "execution_count": 13,
     "metadata": {},
     "output_type": "execute_result"
    }
   ],
   "source": [
    "values = 1, 2, 3, 4, 5\n",
    "\n",
    "a, b, *rest = values\n",
    "\n",
    "rest"
   ]
  },
  {
   "cell_type": "markdown",
   "id": "24103fdd",
   "metadata": {},
   "source": [
    "This rest bit is sometimes something you want to discard; there is nothing special about the rest name. As a matter of convention, many Python programmers will use the underscore (_) for unwanted variables:"
   ]
  },
  {
   "cell_type": "code",
   "execution_count": 14,
   "id": "8ee0db53",
   "metadata": {},
   "outputs": [],
   "source": [
    "a, b, *_ = values"
   ]
  },
  {
   "cell_type": "markdown",
   "id": "f078672a",
   "metadata": {},
   "source": [
    "<h2>List</h2>"
   ]
  },
  {
   "cell_type": "code",
   "execution_count": 15,
   "id": "db4d8ae3",
   "metadata": {},
   "outputs": [
    {
     "data": {
      "text/plain": [
       "['b', 'a', 'r']"
      ]
     },
     "execution_count": 15,
     "metadata": {},
     "output_type": "execute_result"
    }
   ],
   "source": [
    "a_list = [2, 3, 7, None]\n",
    "\n",
    "tup_data = (\"foo\", \"bar\", \"baz\")\n",
    "\n",
    "b_list = list(tup_data[1])\n",
    "\n",
    "b_list"
   ]
  },
  {
   "cell_type": "code",
   "execution_count": 16,
   "id": "8d032f0c",
   "metadata": {},
   "outputs": [
    {
     "data": {
      "text/plain": [
       "['b', 'peekaboo', 'r']"
      ]
     },
     "execution_count": 16,
     "metadata": {},
     "output_type": "execute_result"
    }
   ],
   "source": [
    "b_list[1] = \"peekaboo\"\n",
    "\n",
    "b_list"
   ]
  },
  {
   "cell_type": "markdown",
   "id": "923215ae",
   "metadata": {},
   "source": [
    "Lists and tuples are semantically similar (though tuples cannot be modified) and can be used interchangeably in many functions.\n",
    "\n",
    "The `list` built-in function is frequently used in data processing as a way to materialize an iterator or generator expression:"
   ]
  },
  {
   "cell_type": "code",
   "execution_count": 17,
   "id": "4d999857",
   "metadata": {},
   "outputs": [
    {
     "data": {
      "text/plain": [
       "range(0, 10)"
      ]
     },
     "execution_count": 17,
     "metadata": {},
     "output_type": "execute_result"
    }
   ],
   "source": [
    "gen = range(10)\n",
    "\n",
    "gen"
   ]
  },
  {
   "cell_type": "code",
   "execution_count": 18,
   "id": "0d1efa8a",
   "metadata": {},
   "outputs": [
    {
     "data": {
      "text/plain": [
       "[0, 1, 2, 3, 4, 5, 6, 7, 8, 9]"
      ]
     },
     "execution_count": 18,
     "metadata": {},
     "output_type": "execute_result"
    }
   ],
   "source": [
    "list(gen)"
   ]
  },
  {
   "cell_type": "markdown",
   "id": "8a1823d8",
   "metadata": {},
   "source": [
    "<h3>Adding and removing elements</h3>\n",
    "\n",
    "Elements can be appended to the end of the list with the `append` method:"
   ]
  },
  {
   "cell_type": "code",
   "execution_count": 19,
   "id": "f234bdd1",
   "metadata": {},
   "outputs": [
    {
     "data": {
      "text/plain": [
       "['b', 'peekaboo', 'r', 'dwarf']"
      ]
     },
     "execution_count": 19,
     "metadata": {},
     "output_type": "execute_result"
    }
   ],
   "source": [
    "b_list.append(\"dwarf\")\n",
    "\n",
    "b_list"
   ]
  },
  {
   "cell_type": "markdown",
   "id": "c25342d1",
   "metadata": {},
   "source": [
    "Using `insert` you can insert an element at a specific location in the list:"
   ]
  },
  {
   "cell_type": "code",
   "execution_count": 20,
   "id": "5d46f7a7",
   "metadata": {},
   "outputs": [
    {
     "data": {
      "text/plain": [
       "['b', 'red', 'peekaboo', 'r', 'dwarf']"
      ]
     },
     "execution_count": 20,
     "metadata": {},
     "output_type": "execute_result"
    }
   ],
   "source": [
    "b_list.insert(1, \"red\")\n",
    "\n",
    "b_list"
   ]
  },
  {
   "cell_type": "markdown",
   "id": "08a80931",
   "metadata": {},
   "source": [
    "The inverse operation to `insert` is `pop`, which removes and returns an element at a particular index:"
   ]
  },
  {
   "cell_type": "code",
   "execution_count": 21,
   "id": "8adef6c7",
   "metadata": {},
   "outputs": [
    {
     "data": {
      "text/plain": [
       "'peekaboo'"
      ]
     },
     "execution_count": 21,
     "metadata": {},
     "output_type": "execute_result"
    }
   ],
   "source": [
    "b_list.pop(2)"
   ]
  },
  {
   "cell_type": "markdown",
   "id": "3113d165",
   "metadata": {},
   "source": [
    "Elements can be removed by value with `remove`, which locates the first such value and removes it from the list:"
   ]
  },
  {
   "cell_type": "code",
   "execution_count": 22,
   "id": "ef2b35e5",
   "metadata": {},
   "outputs": [],
   "source": [
    "b_list.append(\"foo\")\n",
    "\n",
    "\n",
    "b_list.remove(\"foo\")"
   ]
  },
  {
   "cell_type": "markdown",
   "id": "d18949fa",
   "metadata": {},
   "source": [
    "Check if a list contains a value using the `in` or `not in` keyword:"
   ]
  },
  {
   "cell_type": "code",
   "execution_count": 23,
   "id": "10d8ba44",
   "metadata": {},
   "outputs": [
    {
     "data": {
      "text/plain": [
       "['b', 'red', 'r', 'dwarf']"
      ]
     },
     "execution_count": 23,
     "metadata": {},
     "output_type": "execute_result"
    }
   ],
   "source": [
    "b_list"
   ]
  },
  {
   "cell_type": "code",
   "execution_count": 24,
   "id": "8955621c",
   "metadata": {},
   "outputs": [
    {
     "data": {
      "text/plain": [
       "False"
      ]
     },
     "execution_count": 24,
     "metadata": {},
     "output_type": "execute_result"
    }
   ],
   "source": [
    "\"foo\" in b_list"
   ]
  },
  {
   "cell_type": "code",
   "execution_count": 25,
   "id": "7e85a196",
   "metadata": {},
   "outputs": [
    {
     "data": {
      "text/plain": [
       "False"
      ]
     },
     "execution_count": 25,
     "metadata": {},
     "output_type": "execute_result"
    }
   ],
   "source": [
    "\"b\" not in b_list"
   ]
  },
  {
   "cell_type": "markdown",
   "id": "e5a3dd06",
   "metadata": {},
   "source": [
    "<h3>Concatenating and combining lists</h3>\n",
    "\n",
    "Similar to tuples, adding two lists together with `+` concatenates them:"
   ]
  },
  {
   "cell_type": "code",
   "execution_count": 26,
   "id": "f471a21f",
   "metadata": {},
   "outputs": [
    {
     "data": {
      "text/plain": [
       "[4, None, 'foo', 7, 8, (2, 3)]"
      ]
     },
     "execution_count": 26,
     "metadata": {},
     "output_type": "execute_result"
    }
   ],
   "source": [
    "[4, None, \"foo\"] + [7, 8, (2, 3)]"
   ]
  },
  {
   "cell_type": "markdown",
   "id": "6692b009",
   "metadata": {},
   "source": [
    "If you have a list already defined, you can append multiple elements to it using the `extend` method:"
   ]
  },
  {
   "cell_type": "code",
   "execution_count": 27,
   "id": "f2eae84c",
   "metadata": {},
   "outputs": [
    {
     "data": {
      "text/plain": [
       "[4, None, 'foo', 7, 8, (2, 3)]"
      ]
     },
     "execution_count": 27,
     "metadata": {},
     "output_type": "execute_result"
    }
   ],
   "source": [
    "dummy_list = [4, None, \"foo\"]\n",
    "\n",
    "dummy_list.extend([7, 8, (2, 3)])\n",
    "\n",
    "dummy_list"
   ]
  },
  {
   "cell_type": "markdown",
   "id": "51f624a2",
   "metadata": {},
   "source": [
    "Note that list concatenation by addition is a comparatively expensive operation since a new list must be created and the objects copied over. `Using extend to append elements to an existing list, especially if you are building up a large list, is usually preferable`. Thus:"
   ]
  },
  {
   "cell_type": "code",
   "execution_count": 28,
   "id": "43bc4207",
   "metadata": {},
   "outputs": [
    {
     "data": {
      "text/plain": [
       "[1, 3, 4, 5]"
      ]
     },
     "execution_count": 28,
     "metadata": {},
     "output_type": "execute_result"
    }
   ],
   "source": [
    "list_of_lists = [[1, 3], [4, 5]]\n",
    "everything = []\n",
    "for chunk in list_of_lists:\n",
    "    everything.extend(chunk)\n",
    "    \n",
    "everything"
   ]
  },
  {
   "cell_type": "markdown",
   "id": "d0bb4f88",
   "metadata": {},
   "source": [
    "<h3>Sorting</h3>\n",
    "\n",
    "You can sort a list in place (without creating a new object) by calling its `sort` function:"
   ]
  },
  {
   "cell_type": "code",
   "execution_count": 29,
   "id": "1016e73a",
   "metadata": {},
   "outputs": [
    {
     "data": {
      "text/plain": [
       "[11, 22, 35, 47, 53]"
      ]
     },
     "execution_count": 29,
     "metadata": {},
     "output_type": "execute_result"
    }
   ],
   "source": [
    "a = [47, 22, 35, 11, 53]\n",
    "\n",
    "a.sort()\n",
    "\n",
    "a"
   ]
  },
  {
   "cell_type": "markdown",
   "id": "8f110c6f",
   "metadata": {},
   "source": [
    "`sort` has a few options that will occasionally come in handy. One is the ability to pass a secondary sort key—that is, a function that produces a value to use to sort the objects. For example, we could sort a collection of strings by their lengths:"
   ]
  },
  {
   "cell_type": "code",
   "execution_count": 30,
   "id": "b9675383",
   "metadata": {},
   "outputs": [
    {
     "data": {
      "text/plain": [
       "['He', 'saw', 'six', 'small', 'foxes']"
      ]
     },
     "execution_count": 30,
     "metadata": {},
     "output_type": "execute_result"
    }
   ],
   "source": [
    "b = [\"saw\", \"small\", \"He\", \"foxes\", \"six\"]\n",
    "\n",
    "b.sort(key=len)\n",
    "\n",
    "b"
   ]
  },
  {
   "cell_type": "markdown",
   "id": "9dc2225e",
   "metadata": {},
   "source": [
    "<h3>Slicing</h3>\n",
    "\n",
    "You can select sections of most sequence types by using slice notation, which in its basic form consists of `start:stop` passed to the indexing operator []:"
   ]
  },
  {
   "cell_type": "code",
   "execution_count": 31,
   "id": "5f266061",
   "metadata": {},
   "outputs": [
    {
     "data": {
      "text/plain": [
       "[2, 3, 7, 5]"
      ]
     },
     "execution_count": 31,
     "metadata": {},
     "output_type": "execute_result"
    }
   ],
   "source": [
    "seq = [7, 2, 3, 7, 5, 6, 0, 1]\n",
    "\n",
    "seq[1:5]"
   ]
  },
  {
   "cell_type": "markdown",
   "id": "46c1b0cd",
   "metadata": {},
   "source": [
    "Either the `start` or `stop` can be omitted, in which case they default to the start of the sequence and the end of the sequence, respectively:"
   ]
  },
  {
   "cell_type": "markdown",
   "id": "47369dd0",
   "metadata": {},
   "source": [
    "seq[:5]"
   ]
  },
  {
   "cell_type": "code",
   "execution_count": 32,
   "id": "8d722aaa",
   "metadata": {},
   "outputs": [
    {
     "data": {
      "text/plain": [
       "[3, 7, 5, 6, 0, 1]"
      ]
     },
     "execution_count": 32,
     "metadata": {},
     "output_type": "execute_result"
    }
   ],
   "source": [
    "seq[2:]"
   ]
  },
  {
   "cell_type": "code",
   "execution_count": 33,
   "id": "07402b6d",
   "metadata": {},
   "outputs": [
    {
     "data": {
      "text/plain": [
       "[5, 6, 0, 1]"
      ]
     },
     "execution_count": 33,
     "metadata": {},
     "output_type": "execute_result"
    }
   ],
   "source": [
    "seq[-4:]"
   ]
  },
  {
   "cell_type": "code",
   "execution_count": 34,
   "id": "689e8bb3",
   "metadata": {},
   "outputs": [
    {
     "data": {
      "text/plain": [
       "[3, 7, 5, 6]"
      ]
     },
     "execution_count": 34,
     "metadata": {},
     "output_type": "execute_result"
    }
   ],
   "source": [
    "seq[-6:-2]"
   ]
  },
  {
   "cell_type": "markdown",
   "id": "1edd8e91",
   "metadata": {},
   "source": [
    "A `step` can also be used after a second colon to, say, take every other element:"
   ]
  },
  {
   "cell_type": "code",
   "execution_count": 35,
   "id": "f2d1d615",
   "metadata": {},
   "outputs": [
    {
     "data": {
      "text/plain": [
       "[7, 3, 5, 0]"
      ]
     },
     "execution_count": 35,
     "metadata": {},
     "output_type": "execute_result"
    }
   ],
   "source": [
    "seq[::2]"
   ]
  },
  {
   "cell_type": "code",
   "execution_count": 36,
   "id": "60cb5162",
   "metadata": {},
   "outputs": [
    {
     "data": {
      "text/plain": [
       "[1, 0, 6, 5, 7, 3, 2, 7]"
      ]
     },
     "execution_count": 36,
     "metadata": {},
     "output_type": "execute_result"
    }
   ],
   "source": [
    "seq[::-1]"
   ]
  },
  {
   "cell_type": "markdown",
   "id": "25ff96d6",
   "metadata": {},
   "source": [
    "<h2>Dictionary</h2>\n",
    "\n",
    "The dictionary or `dict` may be the most important built-in Python data structure. In other programming languages, dictionaries are sometimes called hash maps or associative arrays. A dictionary stores a collection of key-value pairs, where key and value are Python objects. Each key is associated with a value so that a value can be conveniently retrieved, inserted, modified, or deleted given a particular key. One approach for creating a dictionary is to use curly braces `{}` and colons to separate keys and values:"
   ]
  },
  {
   "cell_type": "code",
   "execution_count": 37,
   "id": "a967952a",
   "metadata": {},
   "outputs": [
    {
     "data": {
      "text/plain": [
       "{'a': 'some value', 'b': [1, 2, 3, 4]}"
      ]
     },
     "execution_count": 37,
     "metadata": {},
     "output_type": "execute_result"
    }
   ],
   "source": [
    "empty_dict = {}\n",
    "\n",
    "d1 = {\"a\": \"some value\", \"b\": [1, 2, 3, 4]}\n",
    "\n",
    "d1"
   ]
  },
  {
   "cell_type": "markdown",
   "id": "85b6651a",
   "metadata": {},
   "source": [
    "You can access, insert, or set elements using the same syntax as for accessing elements of a list or tuple:"
   ]
  },
  {
   "cell_type": "code",
   "execution_count": 38,
   "id": "0b45513f",
   "metadata": {},
   "outputs": [
    {
     "data": {
      "text/plain": [
       "{'a': 'some value', 'b': [1, 2, 3, 4], 7: 'an integer'}"
      ]
     },
     "execution_count": 38,
     "metadata": {},
     "output_type": "execute_result"
    }
   ],
   "source": [
    "d1[7] = \"an integer\"\n",
    "\n",
    "d1"
   ]
  },
  {
   "cell_type": "markdown",
   "id": "7587cf53",
   "metadata": {},
   "source": [
    "You can check if a dictionary contains a key using the same syntax used for checking whether a list or tuple contains a value:"
   ]
  },
  {
   "cell_type": "code",
   "execution_count": 39,
   "id": "efef2f44",
   "metadata": {},
   "outputs": [
    {
     "data": {
      "text/plain": [
       "True"
      ]
     },
     "execution_count": 39,
     "metadata": {},
     "output_type": "execute_result"
    }
   ],
   "source": [
    "\"b\" in d1"
   ]
  },
  {
   "cell_type": "markdown",
   "id": "878309ac",
   "metadata": {},
   "source": [
    "You can delete values using either the `del` keyword or the `pop` method (which simultaneously returns the value and deletes the key):"
   ]
  },
  {
   "cell_type": "code",
   "execution_count": 40,
   "id": "d4be2413",
   "metadata": {},
   "outputs": [
    {
     "data": {
      "text/plain": [
       "{'a': 'some value', 'b': [1, 2, 3, 4], 7: 'an integer', 5: 'some value'}"
      ]
     },
     "execution_count": 40,
     "metadata": {},
     "output_type": "execute_result"
    }
   ],
   "source": [
    "d1[5] = \"some value\"\n",
    "\n",
    "d1"
   ]
  },
  {
   "cell_type": "code",
   "execution_count": 41,
   "id": "c892d251",
   "metadata": {},
   "outputs": [
    {
     "data": {
      "text/plain": [
       "{'a': 'some value',\n",
       " 'b': [1, 2, 3, 4],\n",
       " 7: 'an integer',\n",
       " 5: 'some value',\n",
       " 'dummy': 'another value'}"
      ]
     },
     "execution_count": 41,
     "metadata": {},
     "output_type": "execute_result"
    }
   ],
   "source": [
    "d1[\"dummy\"] = \"another value\"\n",
    "\n",
    "d1"
   ]
  },
  {
   "cell_type": "code",
   "execution_count": 42,
   "id": "fc7e1104",
   "metadata": {},
   "outputs": [
    {
     "data": {
      "text/plain": [
       "{'a': 'some value',\n",
       " 'b': [1, 2, 3, 4],\n",
       " 7: 'an integer',\n",
       " 'dummy': 'another value'}"
      ]
     },
     "execution_count": 42,
     "metadata": {},
     "output_type": "execute_result"
    }
   ],
   "source": [
    "del d1[5]\n",
    "\n",
    "d1"
   ]
  },
  {
   "cell_type": "code",
   "execution_count": 43,
   "id": "36d5bf7f",
   "metadata": {},
   "outputs": [
    {
     "data": {
      "text/plain": [
       "'another value'"
      ]
     },
     "execution_count": 43,
     "metadata": {},
     "output_type": "execute_result"
    }
   ],
   "source": [
    "ret = d1.pop(\"dummy\")\n",
    "\n",
    "ret"
   ]
  },
  {
   "cell_type": "markdown",
   "id": "de05cdaa",
   "metadata": {},
   "source": [
    "The `keys` and `values` method gives you iterators of the dictionary's keys and values, respectively. The order of the keys depends on the order of their insertion, and these functions output the keys and values in the same respective order:"
   ]
  },
  {
   "cell_type": "code",
   "execution_count": 44,
   "id": "06dbb4f5",
   "metadata": {},
   "outputs": [
    {
     "data": {
      "text/plain": [
       "['a', 'b', 7]"
      ]
     },
     "execution_count": 44,
     "metadata": {},
     "output_type": "execute_result"
    }
   ],
   "source": [
    "list(d1.keys())"
   ]
  },
  {
   "cell_type": "code",
   "execution_count": 45,
   "id": "0ac50874",
   "metadata": {},
   "outputs": [
    {
     "data": {
      "text/plain": [
       "['some value', [1, 2, 3, 4], 'an integer']"
      ]
     },
     "execution_count": 45,
     "metadata": {},
     "output_type": "execute_result"
    }
   ],
   "source": [
    "list(d1.values())"
   ]
  },
  {
   "cell_type": "markdown",
   "id": "17e52e1d",
   "metadata": {},
   "source": [
    "If you need to iterate over both the keys and values, you can use the `items` method to iterate over the keys and values as 2-tuples:"
   ]
  },
  {
   "cell_type": "code",
   "execution_count": 46,
   "id": "93f68f91",
   "metadata": {},
   "outputs": [
    {
     "data": {
      "text/plain": [
       "[('a', 'some value'), ('b', [1, 2, 3, 4]), (7, 'an integer')]"
      ]
     },
     "execution_count": 46,
     "metadata": {},
     "output_type": "execute_result"
    }
   ],
   "source": [
    "list(d1.items())"
   ]
  },
  {
   "cell_type": "markdown",
   "id": "10afa7da",
   "metadata": {},
   "source": [
    "You can merge one dictionary into another using the `update` method:"
   ]
  },
  {
   "cell_type": "code",
   "execution_count": 47,
   "id": "9b012a18",
   "metadata": {},
   "outputs": [
    {
     "data": {
      "text/plain": [
       "{'a': 'some value', 'b': 'foo', 7: 'an integer', 'c': 12}"
      ]
     },
     "execution_count": 47,
     "metadata": {},
     "output_type": "execute_result"
    }
   ],
   "source": [
    "d1.update({\"b\": \"foo\", \"c\": 12})\n",
    "\n",
    "d1"
   ]
  },
  {
   "cell_type": "markdown",
   "id": "8258759c",
   "metadata": {},
   "source": [
    "<h3>Creating dictionaries from sequences</h3>\n",
    "\n",
    "It’s common to occasionally end up with two sequences that you want to pair up element-wise in a dictionary. As a first cut, you might write code like this:"
   ]
  },
  {
   "cell_type": "code",
   "execution_count": 48,
   "id": "46eb5a9e",
   "metadata": {},
   "outputs": [
    {
     "data": {
      "text/plain": [
       "{1: 'hello', 2: 'world', 3: '!'}"
      ]
     },
     "execution_count": 48,
     "metadata": {},
     "output_type": "execute_result"
    }
   ],
   "source": [
    "key_list = [1, 2, 3]\n",
    "value_list = [\"hello\", \"world\", \"!\"]\n",
    "\n",
    "mapping = {}\n",
    "for key, value in zip(key_list, value_list):\n",
    "    mapping[key] = value\n",
    "    \n",
    "mapping"
   ]
  },
  {
   "cell_type": "markdown",
   "id": "704e71e6",
   "metadata": {},
   "source": [
    "Since a dictionary is essentially a collection of 2-tuples, the `dict` function accepts a list of 2-tuples:"
   ]
  },
  {
   "cell_type": "code",
   "execution_count": 49,
   "id": "7bc45a35",
   "metadata": {},
   "outputs": [
    {
     "data": {
      "text/plain": [
       "{0: 4, 1: 3, 2: 2, 3: 1, 4: 0}"
      ]
     },
     "execution_count": 49,
     "metadata": {},
     "output_type": "execute_result"
    }
   ],
   "source": [
    "tuples = zip(range(5), reversed(range(5)))\n",
    "\n",
    "mapping = dict(tuples)\n",
    "\n",
    "mapping"
   ]
  },
  {
   "cell_type": "markdown",
   "id": "8f19c193",
   "metadata": {},
   "source": [
    "<h3>Default values</h3>"
   ]
  },
  {
   "cell_type": "code",
   "execution_count": 50,
   "id": "2b6ce1d4",
   "metadata": {},
   "outputs": [
    {
     "data": {
      "text/plain": [
       "1"
      ]
     },
     "execution_count": 50,
     "metadata": {},
     "output_type": "execute_result"
    }
   ],
   "source": [
    "key = 3\n",
    "\n",
    "if key in mapping:\n",
    "    value = mapping[key]\n",
    "else:\n",
    "    value = \"default\"\n",
    "    \n",
    "value"
   ]
  },
  {
   "cell_type": "markdown",
   "id": "5bea3c32",
   "metadata": {},
   "source": [
    "Thus, the dictionary methods `get` and `pop` can take a default value to be returned, so that the above `if-else` block can be written simply as:"
   ]
  },
  {
   "cell_type": "code",
   "execution_count": 51,
   "id": "8b81a0b2",
   "metadata": {},
   "outputs": [
    {
     "data": {
      "text/plain": [
       "1"
      ]
     },
     "execution_count": 51,
     "metadata": {},
     "output_type": "execute_result"
    }
   ],
   "source": [
    "value = mapping.get(key, \"default\")\n",
    "value"
   ]
  },
  {
   "cell_type": "markdown",
   "id": "b5703010",
   "metadata": {},
   "source": [
    "`get` by default will return `None` if the key is not present, while `pop` will raise an exception. With setting values, it may be that the values in a dictionary are another kind of collection, like a list. For example, you could imagine categorizing a list of words by their first letters as a dictionary of lists:"
   ]
  },
  {
   "cell_type": "code",
   "execution_count": 52,
   "id": "5767b11b",
   "metadata": {},
   "outputs": [
    {
     "data": {
      "text/plain": [
       "{'a': ['apple', 'atom'], 'b': ['bat', 'bar', 'book']}"
      ]
     },
     "execution_count": 52,
     "metadata": {},
     "output_type": "execute_result"
    }
   ],
   "source": [
    "words = [\"apple\", \"bat\", \"bar\", \"atom\", \"book\"]\n",
    "\n",
    "by_letter = {}\n",
    "\n",
    "for word in words:\n",
    "    letter = word[0]\n",
    "    if letter not in by_letter:\n",
    "        by_letter[letter] = [word]\n",
    "    else:\n",
    "        by_letter[letter].append(word)\n",
    "\n",
    "by_letter"
   ]
  },
  {
   "cell_type": "markdown",
   "id": "b7f14414",
   "metadata": {},
   "source": [
    "The `setdefault` dictionary method can be used to simplify this workflow. The preceding for loop can be rewritten as:"
   ]
  },
  {
   "cell_type": "code",
   "execution_count": 53,
   "id": "91199e4f",
   "metadata": {},
   "outputs": [
    {
     "data": {
      "text/plain": [
       "{'a': ['apple', 'atom'], 'b': ['bat', 'bar', 'book']}"
      ]
     },
     "execution_count": 53,
     "metadata": {},
     "output_type": "execute_result"
    }
   ],
   "source": [
    "by_letter = {}\n",
    "\n",
    "for word in words:\n",
    "    letter = word[0]\n",
    "    by_letter.setdefault(letter, []).append(word)\n",
    "\n",
    "by_letter"
   ]
  },
  {
   "cell_type": "markdown",
   "id": "77a0168e",
   "metadata": {},
   "source": [
    "<h2>Set</h2>\n",
    "\n",
    "A set is an unordered collection of unique elements. A set can be created in two ways: via the `set` function or via a set literal with curly braces:"
   ]
  },
  {
   "cell_type": "code",
   "execution_count": 54,
   "id": "a74031d4",
   "metadata": {},
   "outputs": [
    {
     "data": {
      "text/plain": [
       "{1, 2, 3}"
      ]
     },
     "execution_count": 54,
     "metadata": {},
     "output_type": "execute_result"
    }
   ],
   "source": [
    "set([2, 2, 2, 1, 3, 3])"
   ]
  },
  {
   "cell_type": "markdown",
   "id": "782bcc08",
   "metadata": {},
   "source": [
    "Sets support mathematical set operations like union, intersection, difference, and symmetric difference. Consider these two example sets:"
   ]
  },
  {
   "cell_type": "code",
   "execution_count": 55,
   "id": "83360c1c",
   "metadata": {},
   "outputs": [
    {
     "data": {
      "text/plain": [
       "{1, 2, 3, 4, 5, 6, 7, 8}"
      ]
     },
     "execution_count": 55,
     "metadata": {},
     "output_type": "execute_result"
    }
   ],
   "source": [
    "a = {1, 2, 3, 4, 5}\n",
    "\n",
    "b = {3, 4, 5, 6, 7, 8}\n",
    "\n",
    "a.union(b)\n",
    "\n",
    "# a | b\n",
    "\n",
    "# a.intersection(b)\n",
    "\n",
    "# a & b"
   ]
  },
  {
   "cell_type": "markdown",
   "id": "fb9be95e",
   "metadata": {},
   "source": [
    "All of the logical set operations have in-place counterparts, which enable you to replace the contents of the set on the left side of the operation with the result. For very large sets, this may be more efficient:"
   ]
  },
  {
   "cell_type": "code",
   "execution_count": 56,
   "id": "ca32e522",
   "metadata": {},
   "outputs": [
    {
     "data": {
      "text/plain": [
       "{1, 2, 3, 4, 5, 6, 7, 8}"
      ]
     },
     "execution_count": 56,
     "metadata": {},
     "output_type": "execute_result"
    }
   ],
   "source": [
    "c = a.copy()\n",
    "\n",
    "c |= b\n",
    "\n",
    "c"
   ]
  },
  {
   "cell_type": "code",
   "execution_count": 57,
   "id": "d01aadc7",
   "metadata": {},
   "outputs": [
    {
     "data": {
      "text/plain": [
       "{3, 4, 5}"
      ]
     },
     "execution_count": 57,
     "metadata": {},
     "output_type": "execute_result"
    }
   ],
   "source": [
    "d = a.copy()\n",
    "\n",
    "d &= b\n",
    "\n",
    "d"
   ]
  },
  {
   "cell_type": "markdown",
   "id": "a67c7adf",
   "metadata": {},
   "source": [
    "You can also check if a set is a subset of (is contained in) or a superset of (contains all elements of) another set:"
   ]
  },
  {
   "cell_type": "code",
   "execution_count": 58,
   "id": "871eaef6",
   "metadata": {},
   "outputs": [
    {
     "data": {
      "text/plain": [
       "True"
      ]
     },
     "execution_count": 58,
     "metadata": {},
     "output_type": "execute_result"
    }
   ],
   "source": [
    "a_set = {1, 2, 3, 4, 5}\n",
    "\n",
    "{1, 2, 3}.issubset(a_set)\n",
    "\n",
    "# a_set.issuperset({1, 2, 3})"
   ]
  },
  {
   "cell_type": "markdown",
   "id": "bb967aa5",
   "metadata": {},
   "source": [
    "<h2>Built-In Sequence Functions</h2>\n",
    "\n",
    "<h3>enumerate</h3>\n",
    "\n",
    "It’s common when iterating over a sequence to want to keep track of the index of the current item. A do-it-yourself approach would look like:"
   ]
  },
  {
   "cell_type": "code",
   "execution_count": 59,
   "id": "c18e05c2",
   "metadata": {},
   "outputs": [
    {
     "name": "stdout",
     "output_type": "stream",
     "text": [
      "name1\n",
      "name2\n",
      "name3\n"
     ]
    }
   ],
   "source": [
    "index = 0\n",
    "collection = [\"name1\", \"name2\", \"name3\"]\n",
    "for value in collection:\n",
    "   # do something with value\n",
    "   print(value)\n",
    "   index += 1"
   ]
  },
  {
   "cell_type": "markdown",
   "id": "c34b3ca1",
   "metadata": {},
   "source": [
    "Since this is so common, Python has a built-in function, `enumerate`, which returns a sequence of `(i, value)` tuples:"
   ]
  },
  {
   "cell_type": "code",
   "execution_count": 60,
   "id": "64186d0e",
   "metadata": {},
   "outputs": [
    {
     "name": "stdout",
     "output_type": "stream",
     "text": [
      "index: 0, value: name1\n",
      "index: 1, value: name2\n",
      "index: 2, value: name3\n"
     ]
    }
   ],
   "source": [
    "for index, value in enumerate(collection):\n",
    "   # do something with value\n",
    "   print(f\"index: {index}, value: {value}\")\n",
    "   continue"
   ]
  },
  {
   "cell_type": "markdown",
   "id": "267c80aa",
   "metadata": {},
   "source": [
    "<h3>sorted</h3>\n",
    "\n",
    "The `sorted` function returns a new sorted list from the elements of any sequence:"
   ]
  },
  {
   "cell_type": "code",
   "execution_count": 61,
   "id": "35a39939",
   "metadata": {},
   "outputs": [
    {
     "data": {
      "text/plain": [
       "[0, 1, 2, 2, 3, 6, 7]"
      ]
     },
     "execution_count": 61,
     "metadata": {},
     "output_type": "execute_result"
    }
   ],
   "source": [
    "sorted([7, 1, 2, 6, 0, 3, 2])"
   ]
  },
  {
   "cell_type": "code",
   "execution_count": 62,
   "id": "94d6c8ad",
   "metadata": {},
   "outputs": [
    {
     "data": {
      "text/plain": [
       "['g', 'i', 'n', 'r', 's', 't']"
      ]
     },
     "execution_count": 62,
     "metadata": {},
     "output_type": "execute_result"
    }
   ],
   "source": [
    "sorted(\"string\")"
   ]
  },
  {
   "cell_type": "markdown",
   "id": "bdc4e161",
   "metadata": {},
   "source": [
    "<h3>zip</h3>\n",
    "\n",
    "`zip` “pairs” up the elements of a number of lists, tuples, or other sequences to create a list of tuples:"
   ]
  },
  {
   "cell_type": "code",
   "execution_count": 63,
   "id": "87fec912",
   "metadata": {},
   "outputs": [
    {
     "data": {
      "text/plain": [
       "[('foo', 'one'), ('bar', 'two'), ('baz', 'three')]"
      ]
     },
     "execution_count": 63,
     "metadata": {},
     "output_type": "execute_result"
    }
   ],
   "source": [
    "seq1 = [\"foo\", \"bar\", \"baz\"]\n",
    "\n",
    "seq2 = [\"one\", \"two\", \"three\"]\n",
    "\n",
    "zipped = zip(seq1, seq2)\n",
    "\n",
    "list(zipped)"
   ]
  },
  {
   "cell_type": "markdown",
   "id": "5c2ab8fb",
   "metadata": {},
   "source": [
    "`zip` can take an arbitrary number of sequences, and the number of elements it produces is determined by the shortest sequence:"
   ]
  },
  {
   "cell_type": "code",
   "execution_count": 64,
   "id": "e3c0403a",
   "metadata": {},
   "outputs": [
    {
     "data": {
      "text/plain": [
       "[('foo', 'one', False), ('bar', 'two', True)]"
      ]
     },
     "execution_count": 64,
     "metadata": {},
     "output_type": "execute_result"
    }
   ],
   "source": [
    "seq3 = [False, True]\n",
    "\n",
    "list(zip(seq1, seq2, seq3))"
   ]
  },
  {
   "cell_type": "code",
   "execution_count": 65,
   "id": "9ba830ce",
   "metadata": {},
   "outputs": [
    {
     "name": "stdout",
     "output_type": "stream",
     "text": [
      "0: foo, one\n",
      "1: bar, two\n",
      "2: baz, three\n"
     ]
    }
   ],
   "source": [
    "for index, (a, b) in enumerate(zip(seq1, seq2)):\n",
    "    print(f\"{index}: {a}, {b}\")"
   ]
  },
  {
   "cell_type": "markdown",
   "id": "99e4ae2d",
   "metadata": {},
   "source": [
    "<h3>reversed</h3>\n",
    "\n",
    "`reversed` iterates over the elements of a sequence in reverse order:"
   ]
  },
  {
   "cell_type": "code",
   "execution_count": 66,
   "id": "887053cd",
   "metadata": {},
   "outputs": [
    {
     "data": {
      "text/plain": [
       "[9, 8, 7, 6, 5, 4, 3, 2, 1, 0]"
      ]
     },
     "execution_count": 66,
     "metadata": {},
     "output_type": "execute_result"
    }
   ],
   "source": [
    "list(reversed(range(10)))"
   ]
  },
  {
   "cell_type": "markdown",
   "id": "4de303f6",
   "metadata": {},
   "source": [
    "<h2>List, Set, and Dictionary Comprehensions</h2>\n",
    "\n",
    "List `comprehensions` are a convenient and widely used Python language feature. They allow you to concisely form a new list by filtering the elements of a collection, transforming the elements passing the filter into one concise expression. They take the basic form:\n",
    "\n",
    "[expr for value in collection if condition]\n",
    "\n",
    "This is equivalent to the following `for` loop:"
   ]
  },
  {
   "cell_type": "code",
   "execution_count": 67,
   "id": "9ba1cbc1",
   "metadata": {},
   "outputs": [
    {
     "data": {
      "text/plain": [
       "[1, 2, 3]"
      ]
     },
     "execution_count": 67,
     "metadata": {},
     "output_type": "execute_result"
    }
   ],
   "source": [
    "result = []\n",
    "collection = [1, 2, 3, 4, 5, 6]\n",
    "for value in collection:\n",
    "    if value < 4:\n",
    "        result.append(value)\n",
    "\n",
    "result"
   ]
  },
  {
   "cell_type": "markdown",
   "id": "f5513ee5",
   "metadata": {},
   "source": [
    "The filter condition can be omitted, leaving only the expression. For example, given a list of strings, we could filter out strings with length 2 or less and convert them to uppercase like this:"
   ]
  },
  {
   "cell_type": "code",
   "execution_count": 68,
   "id": "8e1635e7",
   "metadata": {},
   "outputs": [
    {
     "data": {
      "text/plain": [
       "['BAT', 'CAR', 'DOVE', 'PYTHON']"
      ]
     },
     "execution_count": 68,
     "metadata": {},
     "output_type": "execute_result"
    }
   ],
   "source": [
    "strings = [\"a\", \"as\", \"bat\", \"car\", \"dove\", \"python\"]\n",
    "\n",
    "[x.upper() for x in strings if len(x) > 2]"
   ]
  },
  {
   "cell_type": "markdown",
   "id": "32adf88a",
   "metadata": {},
   "source": [
    "Set and dictionary comprehensions are a natural extension, producing sets and dictionaries in an idiomatically similar way instead of lists.\n",
    "\n",
    "A `set` comprehension looks like this:"
   ]
  },
  {
   "cell_type": "code",
   "execution_count": 69,
   "id": "ff28e2d5",
   "metadata": {},
   "outputs": [
    {
     "data": {
      "text/plain": [
       "{3, 4, 5, 6}"
      ]
     },
     "execution_count": 69,
     "metadata": {},
     "output_type": "execute_result"
    }
   ],
   "source": [
    "set_comp = {value for value in collection if value > 2}\n",
    "set_comp"
   ]
  },
  {
   "cell_type": "markdown",
   "id": "49c3a861",
   "metadata": {},
   "source": [
    "A `dictionary` comprehension looks like the equivalent list comprehension except with curly braces instead of square brackets:"
   ]
  },
  {
   "cell_type": "code",
   "execution_count": 70,
   "id": "77d00d74",
   "metadata": {},
   "outputs": [
    {
     "data": {
      "text/plain": [
       "{5: 50}"
      ]
     },
     "execution_count": 70,
     "metadata": {},
     "output_type": "execute_result"
    }
   ],
   "source": [
    "dict_comp = {value: value*10 for value in collection if value == 5}\n",
    "dict_comp"
   ]
  },
  {
   "cell_type": "markdown",
   "id": "63a2855a",
   "metadata": {},
   "source": [
    "As a simple dictionary comprehension example, we could create a lookup map of these strings for their locations in the list:"
   ]
  },
  {
   "cell_type": "code",
   "execution_count": 71,
   "id": "44a2102b",
   "metadata": {},
   "outputs": [
    {
     "data": {
      "text/plain": [
       "{'a': 0, 'as': 1, 'bat': 2, 'car': 3, 'dove': 4, 'python': 5}"
      ]
     },
     "execution_count": 71,
     "metadata": {},
     "output_type": "execute_result"
    }
   ],
   "source": [
    "loc_mapping = {value: index for index, value in enumerate(strings)}\n",
    "\n",
    "loc_mapping"
   ]
  },
  {
   "cell_type": "markdown",
   "id": "a800fd3d",
   "metadata": {},
   "source": [
    "<h3>Nested list comprehensions</h3>\n",
    "\n",
    "Suppose we have a list of lists containing some English and Spanish names:"
   ]
  },
  {
   "cell_type": "code",
   "execution_count": 72,
   "id": "5d38760d",
   "metadata": {},
   "outputs": [],
   "source": [
    "all_data = [[\"John\", \"Emily\", \"Michael\", \"Mary\", \"Steven\"],\n",
    "    [\"Maria\", \"Juan\", \"Javier\", \"Natalia\", \"Pilar\"]]"
   ]
  },
  {
   "cell_type": "markdown",
   "id": "f2b2fd97",
   "metadata": {},
   "source": [
    "Suppose we wanted to get a single list containing all names with two or more a’s in them. We could certainly do this with a simple for loop:"
   ]
  },
  {
   "cell_type": "code",
   "execution_count": 73,
   "id": "c2693f5e",
   "metadata": {},
   "outputs": [
    {
     "data": {
      "text/plain": [
       "['Maria', 'Natalia']"
      ]
     },
     "execution_count": 73,
     "metadata": {},
     "output_type": "execute_result"
    }
   ],
   "source": [
    "names_of_interest = []\n",
    "\n",
    "for names in all_data:\n",
    "    enough_as = [name for name in names if name.count(\"a\") >= 2]\n",
    "    names_of_interest.extend(enough_as)\n",
    "\n",
    "names_of_interest"
   ]
  },
  {
   "cell_type": "code",
   "execution_count": 74,
   "id": "45198439",
   "metadata": {},
   "outputs": [
    {
     "data": {
      "text/plain": [
       "['Maria', 'Natalia']"
      ]
     },
     "execution_count": 74,
     "metadata": {},
     "output_type": "execute_result"
    }
   ],
   "source": [
    "# result_element for inner_list in original_list for result_element in innerlist\n",
    "result = [name for names in all_data for name in names\n",
    "    if name.count(\"a\") >= 2]\n",
    "\n",
    "result"
   ]
  },
  {
   "cell_type": "markdown",
   "id": "64f7c368",
   "metadata": {},
   "source": [
    "At first, nested list comprehensions are a bit hard to wrap your head around. The `for` parts of the list comprehension are arranged according to the order of nesting, and any filter condition is put at the end as before. Here is another example where we “flatten” a list of tuples of integers into a simple list of integers:"
   ]
  },
  {
   "cell_type": "code",
   "execution_count": 75,
   "id": "4e7ed5d4",
   "metadata": {},
   "outputs": [
    {
     "data": {
      "text/plain": [
       "[1, 2, 3, 4, 5, 6, 7, 8, 9]"
      ]
     },
     "execution_count": 75,
     "metadata": {},
     "output_type": "execute_result"
    }
   ],
   "source": [
    "some_tuples = [(1, 2, 3), (4, 5, 6), (7, 8, 9)]\n",
    "\n",
    "flattened = [x for tup in some_tuples for x in tup]\n",
    "\n",
    "flattened"
   ]
  },
  {
   "cell_type": "markdown",
   "id": "bcdb9f56",
   "metadata": {},
   "source": [
    "Keep in mind that the order of the `for` expressions would be the same if you wrote a nested `for` loop instead of a list comprehension:"
   ]
  },
  {
   "cell_type": "code",
   "execution_count": 76,
   "id": "0bb30e85",
   "metadata": {},
   "outputs": [],
   "source": [
    "flattened = []\n",
    "\n",
    "for tup in some_tuples:\n",
    "    for x in tup:\n",
    "        flattened.append(x)"
   ]
  },
  {
   "cell_type": "markdown",
   "id": "0c455afa",
   "metadata": {},
   "source": [
    "<h2>Functions</h2>\n",
    "\n",
    "Functions are the primary and most important method of code organization and reuse in Python. As a rule of thumb, if you anticipate needing to repeat the same or very similar code more than once, it may be worth writing a reusable function. Functions can also help make your code more readable by giving a name to a group of Python statements.\n",
    "\n",
    "Functions are declared with the `def` keyword. A function contains a block of code with an optional use of the `return` keyword:"
   ]
  },
  {
   "cell_type": "code",
   "execution_count": 77,
   "id": "44a02b6d",
   "metadata": {},
   "outputs": [],
   "source": [
    "def my_function(x, y):\n",
    "    return x + y"
   ]
  },
  {
   "cell_type": "markdown",
   "id": "44a97df6",
   "metadata": {},
   "source": [
    "When a line with `return` is reached, the value or expression after `return` is sent to the context where the function was called, for example:"
   ]
  },
  {
   "cell_type": "code",
   "execution_count": 78,
   "id": "4239557e",
   "metadata": {},
   "outputs": [
    {
     "data": {
      "text/plain": [
       "3"
      ]
     },
     "execution_count": 78,
     "metadata": {},
     "output_type": "execute_result"
    }
   ],
   "source": [
    "result = my_function(1, 2)\n",
    "\n",
    "result"
   ]
  },
  {
   "cell_type": "markdown",
   "id": "7f8ba539",
   "metadata": {},
   "source": [
    "There is no issue with having multiple return statements. If Python reaches the end of a function without encountering a `return` statement, `None` is returned automatically. For example:"
   ]
  },
  {
   "cell_type": "code",
   "execution_count": 79,
   "id": "6c4fd587",
   "metadata": {},
   "outputs": [
    {
     "name": "stdout",
     "output_type": "stream",
     "text": [
      "hello!\n",
      "None\n"
     ]
    }
   ],
   "source": [
    "def function_without_return(x):\n",
    "    print(x)\n",
    "\n",
    "result = function_without_return(\"hello!\")\n",
    "\n",
    "print(result)\n",
    "None"
   ]
  },
  {
   "cell_type": "markdown",
   "id": "1f0826c1",
   "metadata": {},
   "source": [
    "Each function can have positional arguments and keyword arguments. Keyword arguments are most commonly used to specify default values or optional arguments. Here we will define a function with an optional `z` argument with the default value `1.5`:"
   ]
  },
  {
   "cell_type": "code",
   "execution_count": 80,
   "id": "cf51e2b2",
   "metadata": {},
   "outputs": [],
   "source": [
    "def my_function2(x, y, z=1.5):\n",
    "    if z > 1:\n",
    "        return z * (x + y)\n",
    "    else:\n",
    "        return z / (x + y)"
   ]
  },
  {
   "cell_type": "markdown",
   "id": "60ce46ca",
   "metadata": {},
   "source": [
    "While keyword arguments are optional, all positional arguments must be specified when calling a function.\n",
    "\n",
    "You can pass values to the `z` argument with or without the keyword provided, though using the keyword is encouraged:"
   ]
  },
  {
   "cell_type": "code",
   "execution_count": 81,
   "id": "2ff8c36a",
   "metadata": {},
   "outputs": [
    {
     "data": {
      "text/plain": [
       "45.0"
      ]
     },
     "execution_count": 81,
     "metadata": {},
     "output_type": "execute_result"
    }
   ],
   "source": [
    "# my_function2(5, 6, z=0.7)\n",
    "\n",
    "my_function2(10, 20)"
   ]
  },
  {
   "cell_type": "markdown",
   "id": "938e96bb",
   "metadata": {},
   "source": [
    "<h3>Namespaces, Scope, and Local Functions</h3>\n",
    "\n",
    "Functions can access variables created inside the function as well as those outside the function in higher (or even global) scopes. An alternative and more descriptive name describing a variable scope in Python is a namespace. Any variables that are assigned within a function by default are assigned to the local namespace. The local namespace is created when the function is called and is immediately populated by the function’s arguments. After the function is finished, the local namespace is destroyed (with some exceptions) Consider the following function:"
   ]
  },
  {
   "cell_type": "code",
   "execution_count": 82,
   "id": "c5e0d0ea",
   "metadata": {},
   "outputs": [],
   "source": [
    "def func():\n",
    "    a = []\n",
    "    for i in range(5):\n",
    "        a.append(i)"
   ]
  },
  {
   "cell_type": "markdown",
   "id": "be48c14c",
   "metadata": {},
   "source": [
    "When `func()` is called, the empty list `a` is created, five elements are appended, and then a is destroyed when the function exits. Suppose instead we had declared `a` as follows:"
   ]
  },
  {
   "cell_type": "code",
   "execution_count": 83,
   "id": "59509542",
   "metadata": {},
   "outputs": [
    {
     "data": {
      "text/plain": [
       "[0, 1, 2, 3, 4]"
      ]
     },
     "execution_count": 83,
     "metadata": {},
     "output_type": "execute_result"
    }
   ],
   "source": [
    "a = []\n",
    "\n",
    "def func():\n",
    "    for i in range(5):\n",
    "        a.append(i)\n",
    "\n",
    "func()\n",
    "\n",
    "a"
   ]
  },
  {
   "cell_type": "markdown",
   "id": "36aa79cd",
   "metadata": {},
   "source": [
    "Assigning variables outside of the function's scope is possible, but those variables must be declared explicitly using either the `global` or `nonlocal` keywords:"
   ]
  },
  {
   "cell_type": "code",
   "execution_count": 84,
   "id": "6d4dc376",
   "metadata": {},
   "outputs": [
    {
     "name": "stdout",
     "output_type": "stream",
     "text": [
      "[]\n"
     ]
    }
   ],
   "source": [
    "a = None\n",
    "\n",
    "def bind_a_variable():\n",
    "    global a\n",
    "    a = []\n",
    "    \n",
    "bind_a_variable()\n",
    "\n",
    "print(a)"
   ]
  },
  {
   "cell_type": "markdown",
   "id": "00057c05",
   "metadata": {},
   "source": [
    "<b>Note!</b> I generally discourage use of the global keyword. Typically, global variables are used to store some kind of state in a system. If you find yourself using alot of them, it may indicate a need for object-oriented programming (using classes).</p>"
   ]
  },
  {
   "cell_type": "markdown",
   "id": "fa3c245c",
   "metadata": {},
   "source": [
    "<h3>Returning Multiple Values</h3>\n",
    "\n",
    "When I first programmed in Python after having programmed in Java and C++, one of my favorite features was the ability to return multiple values from a function with simple syntax. Here’s an example:"
   ]
  },
  {
   "cell_type": "code",
   "execution_count": 85,
   "id": "4b772940",
   "metadata": {},
   "outputs": [],
   "source": [
    "def f():\n",
    "    a = 5\n",
    "    b = 6\n",
    "    c = 7\n",
    "    return a, b, c\n",
    "\n",
    "a, b, c = f()"
   ]
  },
  {
   "cell_type": "markdown",
   "id": "89e998dc",
   "metadata": {},
   "source": [
    "In data analysis and other scientific applications, you may find yourself doing this often. What’s happening here is that the function is actually just returning one object, a tuple, which is then being unpacked into the result variables. "
   ]
  },
  {
   "cell_type": "markdown",
   "id": "58e6b447",
   "metadata": {},
   "source": [
    "<h3>Functions Are Objects</h3>\n",
    "\n",
    "Since Python functions are objects, many constructs can be easily expressed that are difficult to do in other languages. Suppose we were doing some data cleaning and needed to apply a bunch of transformations.\n",
    "\n",
    "Anyone who has ever worked with user-submitted survey data has seen messy results like these. Lots of things need to happen to make this list of strings uniform and ready for analysis: stripping whitespace, removing punctuation symbols, and standardizing proper capitalization. One way to do this is to use built-in string methods along with the re standard library module for regular expressions:"
   ]
  },
  {
   "cell_type": "code",
   "execution_count": 86,
   "id": "468b0855",
   "metadata": {},
   "outputs": [
    {
     "data": {
      "text/plain": [
       "['Alabama',\n",
       " 'Georgia',\n",
       " 'Georgia',\n",
       " 'Georgia',\n",
       " 'Florida',\n",
       " 'South   Carolina',\n",
       " 'West Virginia']"
      ]
     },
     "execution_count": 86,
     "metadata": {},
     "output_type": "execute_result"
    }
   ],
   "source": [
    "import re\n",
    "\n",
    "states = [\"   Alabama \", \"Georgia!\", \"Georgia\", \"georgia\", \"FlOrIda\", \"south   carolina##\", \"West virginia?\"]\n",
    "\n",
    "def clean_strings(strings):\n",
    "    result = []\n",
    "    for value in strings:\n",
    "        value = value.strip()\n",
    "        value = re.sub(\"[!#?]\", \"\", value)\n",
    "        value = value.title()\n",
    "        result.append(value)\n",
    "    return result\n",
    "\n",
    "clean_strings(states)"
   ]
  },
  {
   "cell_type": "markdown",
   "id": "3916b76f",
   "metadata": {},
   "source": [
    "An alternative approach that you may find useful is to make a list of the operations you want to apply to a particular set of strings:"
   ]
  },
  {
   "cell_type": "code",
   "execution_count": 87,
   "id": "762c56b8",
   "metadata": {},
   "outputs": [
    {
     "data": {
      "text/plain": [
       "['Alabama',\n",
       " 'Georgia',\n",
       " 'Georgia',\n",
       " 'Georgia',\n",
       " 'Florida',\n",
       " 'South   Carolina',\n",
       " 'West Virginia']"
      ]
     },
     "execution_count": 87,
     "metadata": {},
     "output_type": "execute_result"
    }
   ],
   "source": [
    "def remove_punctuation(value):\n",
    "    return re.sub(\"[!#?]\", \"\", value)\n",
    "\n",
    "clean_ops = [str.strip, remove_punctuation, str.title]\n",
    "\n",
    "def clean_strings(strings, ops):\n",
    "    result = []\n",
    "    for value in strings:\n",
    "        for func in ops:\n",
    "            value = func(value)\n",
    "        result.append(value)\n",
    "    return result\n",
    "\n",
    "clean_strings(states, clean_ops)"
   ]
  },
  {
   "cell_type": "markdown",
   "id": "a6b602e6",
   "metadata": {},
   "source": [
    "You can use functions as arguments to other functions like the built-in `map` function, which applies a function to a sequence of some kind:"
   ]
  },
  {
   "cell_type": "code",
   "execution_count": 88,
   "id": "6711c48a",
   "metadata": {},
   "outputs": [
    {
     "name": "stdout",
     "output_type": "stream",
     "text": [
      "   Alabama \n",
      "Georgia\n",
      "Georgia\n",
      "georgia\n",
      "FlOrIda\n",
      "south   carolina\n",
      "West virginia\n"
     ]
    }
   ],
   "source": [
    "for x in map(remove_punctuation, states):\n",
    "    print(x)"
   ]
  },
  {
   "cell_type": "markdown",
   "id": "6fdc66d0",
   "metadata": {},
   "source": [
    "<h3>Anonymous (Lambda) Functions</h3>\n",
    "\n",
    "Python has support for so-called anonymous or lambda functions, which are a way of writing functions consisting of a single statement, the result of which is the return value. They are defined with the `lambda` keyword, which has no meaning other than “we are declaring an anonymous function”:"
   ]
  },
  {
   "cell_type": "code",
   "execution_count": 89,
   "id": "8fc1aa1b",
   "metadata": {},
   "outputs": [],
   "source": [
    "def short_function(x):\n",
    "    return x * 2\n",
    "\n",
    "equiv_anon = lambda x: x * 2"
   ]
  },
  {
   "cell_type": "markdown",
   "id": "1ceb4923",
   "metadata": {},
   "source": [
    "I usually refer to these as lambda functions in the rest of the book. They are especially convenient in data analysis because, as you’ll see, there are many cases where data transformation functions will take functions as arguments. It’s often less typing (and clearer) to pass a lambda function as opposed to writing a full-out function declaration or even assigning the lambda function to a local variable. Consider this example:"
   ]
  },
  {
   "cell_type": "code",
   "execution_count": 90,
   "id": "753e55b1",
   "metadata": {},
   "outputs": [
    {
     "data": {
      "text/plain": [
       "[8, 0, 2, 10, 12]"
      ]
     },
     "execution_count": 90,
     "metadata": {},
     "output_type": "execute_result"
    }
   ],
   "source": [
    "def apply_to_list(some_list, f):\n",
    "    return [f(x) for x in some_list]\n",
    "\n",
    "ints = [4, 0, 1, 5, 6]\n",
    "\n",
    "apply_to_list(ints, lambda x: x * 2)"
   ]
  },
  {
   "cell_type": "markdown",
   "id": "d5e12fa7",
   "metadata": {},
   "source": [
    "As another example, suppose you wanted to sort a collection of strings by the number of distinct letters in each string, here we could pass a lambda function to the list’s sort method:"
   ]
  },
  {
   "cell_type": "code",
   "execution_count": 91,
   "id": "f9f5f181",
   "metadata": {},
   "outputs": [
    {
     "data": {
      "text/plain": [
       "['aaaa', 'foo', 'abab', 'bar', 'card']"
      ]
     },
     "execution_count": 91,
     "metadata": {},
     "output_type": "execute_result"
    }
   ],
   "source": [
    "strings = [\"foo\", \"card\", \"bar\", \"aaaa\", \"abab\"]\n",
    "\n",
    "strings.sort(key=lambda x: len(set(x)))\n",
    "\n",
    "strings"
   ]
  },
  {
   "cell_type": "markdown",
   "id": "2cee8534",
   "metadata": {},
   "source": [
    "<h3>Errors and Exception Handling</h3>\n",
    "\n",
    "Handling Python errors or exceptions gracefully is an important part of building robust programs. In data analysis applications, many functions work only on certain kinds of input. As an example, Python’s `float` function is capable of casting a string to a floating-point number, but it fails with ValueError on improper inputs:"
   ]
  },
  {
   "cell_type": "code",
   "execution_count": 92,
   "id": "1d5add1c",
   "metadata": {},
   "outputs": [
    {
     "data": {
      "text/plain": [
       "1.2345"
      ]
     },
     "execution_count": 92,
     "metadata": {},
     "output_type": "execute_result"
    }
   ],
   "source": [
    "float(\"1.2345\")\n",
    "\n",
    "# Error\n",
    "# float(\"string\")"
   ]
  },
  {
   "cell_type": "markdown",
   "id": "3de2a809",
   "metadata": {},
   "source": [
    "Suppose we wanted a version of `float` that fails gracefully, returning the input argument. We can do this by writing a function that encloses the call to float in a `try/except` block (execute this code in IPython):"
   ]
  },
  {
   "cell_type": "code",
   "execution_count": 93,
   "id": "cd644198",
   "metadata": {},
   "outputs": [
    {
     "data": {
      "text/plain": [
       "'string'"
      ]
     },
     "execution_count": 93,
     "metadata": {},
     "output_type": "execute_result"
    }
   ],
   "source": [
    "def attempt_float(x):\n",
    "    try:\n",
    "        return float(x)\n",
    "    except:\n",
    "        return x\n",
    "\n",
    "# attempt_float(\"1.2345\")\n",
    "\n",
    "attempt_float(\"string\")"
   ]
  },
  {
   "cell_type": "code",
   "execution_count": 94,
   "id": "6ca7f4b4",
   "metadata": {},
   "outputs": [],
   "source": [
    "# def attempt_float(x):\n",
    "#     try:\n",
    "#         return float(x)\n",
    "#     except ValueError:\n",
    "#         return x"
   ]
  },
  {
   "cell_type": "markdown",
   "id": "dd79f2bb",
   "metadata": {},
   "source": [
    "Here, the file object `f` will always get closed. Similarly, you can have code that executes only if the `try`: block succeeds using `else`:"
   ]
  },
  {
   "cell_type": "code",
   "execution_count": 95,
   "id": "12374be5",
   "metadata": {},
   "outputs": [],
   "source": [
    "# f = open(path, mode=\"w\")\n",
    "\n",
    "# try:\n",
    "#     write_to_file(f)\n",
    "# except:\n",
    "#     print(\"Failed\")\n",
    "# else:\n",
    "#     print(\"Succeeded\")\n",
    "# finally:\n",
    "#     f.close()"
   ]
  },
  {
   "cell_type": "markdown",
   "id": "7941968b",
   "metadata": {},
   "source": [
    "<h2>Files and the Operating System</h2>\n",
    "\n",
    "It’s important to understand the basics of how to work with files in Python. Fortunately, it’s relatively straightforward, which is one reason Python is so popular for text and file munging.\n",
    "To open a file for reading or writing, use the built-in open function with either a relative or absolute file path and an optional file encoding:"
   ]
  },
  {
   "cell_type": "code",
   "execution_count": 96,
   "id": "e3517ba8",
   "metadata": {},
   "outputs": [],
   "source": [
    "path = \"../data/segismundo.txt\"\n",
    "\n",
    "f = open(path, encoding=\"utf-8\")"
   ]
  },
  {
   "cell_type": "markdown",
   "id": "5b85d59c",
   "metadata": {},
   "source": [
    "Here, I pass `encoding=\"utf-8\"` as a best practice because the default Unicode encoding for reading files varies from platform to platform.\n",
    "\n",
    "By default, the file is opened in read-only mode `\"r\"`. We can then treat the file object `f` like a list and iterate over the lines like so:"
   ]
  },
  {
   "cell_type": "code",
   "execution_count": 97,
   "id": "bea37e56",
   "metadata": {},
   "outputs": [
    {
     "name": "stdout",
     "output_type": "stream",
     "text": [
      "Sueña el rico en su riqueza,\n",
      "\n",
      "que más cuidados le ofrece;\n",
      "\n",
      "\n",
      "\n",
      "sueña el pobre que padece\n",
      "\n",
      "su miseria y su pobreza;\n",
      "\n",
      "\n",
      "\n",
      "sueña el que a medrar empieza,\n",
      "\n",
      "sueña el que afana y pretende,\n",
      "\n",
      "sueña el que agravia y ofende,\n",
      "\n",
      "\n",
      "\n",
      "y en el mundo, en conclusión,\n",
      "\n",
      "todos sueñan lo que son,\n",
      "\n",
      "aunque ninguno lo entiende.\n",
      "\n",
      "\n",
      "\n"
     ]
    }
   ],
   "source": [
    "for line in f:\n",
    "    print(line)"
   ]
  },
  {
   "cell_type": "markdown",
   "id": "414ecc5a",
   "metadata": {},
   "source": [
    "When you use `open` to create file objects, it is recommended to close the file when you are finished with it. Closing the file releases its resources back to the operating system:"
   ]
  },
  {
   "cell_type": "code",
   "execution_count": 98,
   "id": "1e37cf6e",
   "metadata": {},
   "outputs": [],
   "source": [
    "f.close()"
   ]
  },
  {
   "cell_type": "markdown",
   "id": "7185ac0f",
   "metadata": {},
   "source": [
    "One of the ways to make it easier to clean up open files is to use the `with` statement:"
   ]
  },
  {
   "cell_type": "code",
   "execution_count": 99,
   "id": "b401aced",
   "metadata": {},
   "outputs": [],
   "source": [
    "with open(path, encoding=\"utf-8\") as f:\n",
    "    lines = [x.rstrip() for x in f]"
   ]
  }
 ],
 "metadata": {
  "kernelspec": {
   "display_name": "Python 3.9.13 ('base')",
   "language": "python",
   "name": "python3"
  },
  "language_info": {
   "codemirror_mode": {
    "name": "ipython",
    "version": 3
   },
   "file_extension": ".py",
   "mimetype": "text/x-python",
   "name": "python",
   "nbconvert_exporter": "python",
   "pygments_lexer": "ipython3",
   "version": "3.9.13"
  },
  "vscode": {
   "interpreter": {
    "hash": "7bca6972f02c1a222e0c9c89cdcff49d74f14619c7ac3f68915954ccf38f66b2"
   }
  }
 },
 "nbformat": 4,
 "nbformat_minor": 5
}
