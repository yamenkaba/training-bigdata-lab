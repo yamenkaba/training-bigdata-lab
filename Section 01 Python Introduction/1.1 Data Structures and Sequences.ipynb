{
 "cells": [
  {
   "cell_type": "markdown",
   "id": "bd9cbe66-345f-4191-8da4-6f8048d5960b",
   "metadata": {},
   "source": [
    "<h1>Data Structures and Sequences</h1>\n",
    "\n",
    "Python’s data structures are simple but powerful. Mastering their use is a critical part of becoming a proficient Python programmer. We start with tuple, list, and dictionary, which are some of the most frequently used `sequence` types."
   ]
  },
  {
   "cell_type": "markdown",
   "id": "6ea05103",
   "metadata": {},
   "source": [
    "<h2>Tuple</h2>\n",
    "\n",
    "A tuple is a fixed-length, immutable sequence of Python objects which, once assigned, cannot be changed. The easiest way to create one is with a comma-separated sequence of values wrapped in parentheses:"
   ]
  },
  {
   "cell_type": "code",
   "execution_count": null,
   "id": "5a3ffaef",
   "metadata": {},
   "outputs": [],
   "source": [
    "tup_data = (43, 54, 16)\n",
    "\n",
    "tup_data"
   ]
  },
  {
   "cell_type": "markdown",
   "id": "d188b7ee",
   "metadata": {},
   "source": [
    "You can convert any sequence or iterator to a tuple by invoking `tuple`:"
   ]
  },
  {
   "cell_type": "code",
   "execution_count": null,
   "id": "84cc621c",
   "metadata": {},
   "outputs": [],
   "source": [
    "tuple([4, 0, 2])\n",
    "\n",
    "tup = tuple('string')\n",
    "\n",
    "tup"
   ]
  },
  {
   "cell_type": "markdown",
   "id": "8839b028",
   "metadata": {},
   "source": [
    "Elements can be accessed with square brackets [] as with most other sequence types. As in C, C++, Java, and many other languages, sequences are 0-indexed in Python:"
   ]
  },
  {
   "cell_type": "code",
   "execution_count": null,
   "id": "434302ed",
   "metadata": {},
   "outputs": [],
   "source": [
    "tup[0]"
   ]
  },
  {
   "cell_type": "markdown",
   "id": "c6d40ca4",
   "metadata": {},
   "source": [
    "When you're defining tuples within more complicated expressions, it’s often necessary to enclose the values in parentheses, as in this example of creating a tuple of tuples:"
   ]
  },
  {
   "cell_type": "code",
   "execution_count": null,
   "id": "8fbc7931",
   "metadata": {},
   "outputs": [],
   "source": [
    "nested_tup = (4, 5, 6), (7, 8)\n",
    "\n",
    "nested_tup"
   ]
  },
  {
   "cell_type": "code",
   "execution_count": null,
   "id": "2aa4416a",
   "metadata": {
    "vscode": {
     "languageId": "plaintext"
    }
   },
   "outputs": [],
   "source": [
    "nested_tup[1]"
   ]
  },
  {
   "cell_type": "markdown",
   "id": "8c7651a0",
   "metadata": {},
   "source": [
    "While the objects stored in a tuple may be mutable themselves, once the tuple is created it’s not possible to modify which object is stored in each slot:"
   ]
  },
  {
   "cell_type": "code",
   "execution_count": null,
   "id": "7e8801be",
   "metadata": {},
   "outputs": [],
   "source": [
    "tup_data = tuple(['foo', [1, 2], True])"
   ]
  },
  {
   "cell_type": "code",
   "execution_count": null,
   "id": "fce8cd35",
   "metadata": {},
   "outputs": [],
   "source": [
    "# Error\n",
    "tup_data[2] = False"
   ]
  },
  {
   "cell_type": "markdown",
   "id": "1cdb5002",
   "metadata": {},
   "source": [
    "If an object inside a tuple is mutable, such as a list, you can modify it in place:"
   ]
  },
  {
   "cell_type": "code",
   "execution_count": null,
   "id": "3f9c935f",
   "metadata": {},
   "outputs": [],
   "source": [
    "tup_data[1].append(3)\n",
    "\n",
    "tup_data"
   ]
  },
  {
   "cell_type": "markdown",
   "id": "9f679f4d",
   "metadata": {},
   "source": [
    "<h3>Unpacking tuples</h3>"
   ]
  },
  {
   "cell_type": "code",
   "execution_count": null,
   "id": "e5c19b0c",
   "metadata": {},
   "outputs": [],
   "source": [
    "tup_data = (43, 54, 126)\n",
    "\n",
    "a, b, c = tup_data\n",
    "\n",
    "b"
   ]
  },
  {
   "cell_type": "markdown",
   "id": "01b3c76b",
   "metadata": {},
   "source": [
    "Even sequences with nested tuples can be unpacked:"
   ]
  },
  {
   "cell_type": "code",
   "execution_count": null,
   "id": "504dba59",
   "metadata": {},
   "outputs": [],
   "source": [
    "tup_data = 4, 5, (6, 7)\n",
    "\n",
    "a, b, (c, d) = tup_data"
   ]
  },
  {
   "cell_type": "markdown",
   "id": "1befe50a",
   "metadata": {},
   "source": [
    "In Python, the swap can be done like this:"
   ]
  },
  {
   "cell_type": "code",
   "execution_count": null,
   "id": "3a2a9955",
   "metadata": {},
   "outputs": [],
   "source": [
    "a, b = 41, 23\n",
    "\n",
    "b, a = a, b"
   ]
  },
  {
   "cell_type": "markdown",
   "id": "dfe80786",
   "metadata": {},
   "source": [
    "A common use of variable unpacking is iterating over sequences of tuples or lists:"
   ]
  },
  {
   "cell_type": "code",
   "execution_count": null,
   "id": "53da6257",
   "metadata": {},
   "outputs": [],
   "source": [
    "seq = [(1, 2, 3), (4, 5, 6), (7, 8, 9)]\n",
    "\n",
    "for a, b, c in seq:\n",
    "    print(f'a={a}, b={b}, c={c}')"
   ]
  },
  {
   "cell_type": "markdown",
   "id": "0abe95c6",
   "metadata": {},
   "source": [
    "There are some situations where you may want to \"pluck\" a few elements from the beginning of a tuple. There is a special syntax that can do this, *rest, which is also used in function signatures to capture an arbitrarily long list of positional arguments:"
   ]
  },
  {
   "cell_type": "code",
   "execution_count": null,
   "id": "a752be74",
   "metadata": {},
   "outputs": [],
   "source": [
    "values = 1, 2, 3, 4, 5\n",
    "\n",
    "a, b, *rest = values\n",
    "\n",
    "rest"
   ]
  },
  {
   "cell_type": "markdown",
   "id": "24103fdd",
   "metadata": {},
   "source": [
    "This rest bit is sometimes something you want to discard; there is nothing special about the rest name. As a matter of convention, many Python programmers will use the underscore (_) for unwanted variables:"
   ]
  },
  {
   "cell_type": "code",
   "execution_count": null,
   "id": "8ee0db53",
   "metadata": {},
   "outputs": [],
   "source": [
    "a, b, *_ = values"
   ]
  },
  {
   "cell_type": "markdown",
   "id": "f078672a",
   "metadata": {},
   "source": [
    "<h2>List</h2>"
   ]
  },
  {
   "cell_type": "code",
   "execution_count": null,
   "id": "db4d8ae3",
   "metadata": {},
   "outputs": [],
   "source": [
    "a_list = [2, 3, 7, None]\n",
    "\n",
    "tup_data = (\"foo\", \"bar\", \"baz\")\n",
    "\n",
    "b_list = list(tup)\n",
    "\n",
    "b_list"
   ]
  },
  {
   "cell_type": "code",
   "execution_count": null,
   "id": "8d032f0c",
   "metadata": {},
   "outputs": [],
   "source": [
    "b_list[1] = \"peekaboo\"\n",
    "\n",
    "b_list"
   ]
  },
  {
   "cell_type": "markdown",
   "id": "923215ae",
   "metadata": {},
   "source": [
    "Lists and tuples are semantically similar (though tuples cannot be modified) and can be used interchangeably in many functions.\n",
    "\n",
    "The `list` built-in function is frequently used in data processing as a way to materialize an iterator or generator expression:"
   ]
  },
  {
   "cell_type": "code",
   "execution_count": null,
   "id": "4d999857",
   "metadata": {},
   "outputs": [],
   "source": [
    "gen = range(10)\n",
    "\n",
    "gen"
   ]
  },
  {
   "cell_type": "code",
   "execution_count": null,
   "id": "0d1efa8a",
   "metadata": {},
   "outputs": [],
   "source": [
    "list(gen)"
   ]
  },
  {
   "cell_type": "markdown",
   "id": "8a1823d8",
   "metadata": {},
   "source": [
    "<h3>Adding and removing elements</h3>\n",
    "\n",
    "Elements can be appended to the end of the list with the `append` method:"
   ]
  },
  {
   "cell_type": "code",
   "execution_count": null,
   "id": "f234bdd1",
   "metadata": {},
   "outputs": [],
   "source": [
    "b_list.append(\"dwarf\")\n",
    "\n",
    "b_list"
   ]
  },
  {
   "cell_type": "markdown",
   "id": "c25342d1",
   "metadata": {},
   "source": [
    "Using `insert` you can insert an element at a specific location in the list:"
   ]
  },
  {
   "cell_type": "code",
   "execution_count": null,
   "id": "5d46f7a7",
   "metadata": {},
   "outputs": [],
   "source": [
    "b_list.insert(1, \"red\")\n",
    "\n",
    "b_list"
   ]
  },
  {
   "cell_type": "markdown",
   "id": "08a80931",
   "metadata": {},
   "source": [
    "The inverse operation to `insert` is `pop`, which removes and returns an element at a particular index:"
   ]
  },
  {
   "cell_type": "code",
   "execution_count": null,
   "id": "8adef6c7",
   "metadata": {},
   "outputs": [],
   "source": [
    "b_list.pop(2)"
   ]
  },
  {
   "cell_type": "markdown",
   "id": "3113d165",
   "metadata": {},
   "source": [
    "Elements can be removed by value with `remove`, which locates the first such value and removes it from the list:"
   ]
  },
  {
   "cell_type": "code",
   "execution_count": null,
   "id": "ef2b35e5",
   "metadata": {},
   "outputs": [],
   "source": [
    "b_list.append(\"foo\")\n",
    "\n",
    "\n",
    "b_list.remove(\"foo\")"
   ]
  },
  {
   "cell_type": "markdown",
   "id": "d18949fa",
   "metadata": {},
   "source": [
    "Check if a list contains a value using the `in` or `not in` keyword:"
   ]
  },
  {
   "cell_type": "code",
   "execution_count": null,
   "id": "8955621c",
   "metadata": {},
   "outputs": [],
   "source": [
    "\"foo\" in b_list"
   ]
  },
  {
   "cell_type": "code",
   "execution_count": null,
   "id": "7e85a196",
   "metadata": {},
   "outputs": [],
   "source": [
    "\"dwarf\" not in b_list"
   ]
  },
  {
   "cell_type": "markdown",
   "id": "e5a3dd06",
   "metadata": {},
   "source": [
    "<h3>Concatenating and combining lists</h3>\n",
    "\n",
    "Similar to tuples, adding two lists together with `+` concatenates them:"
   ]
  },
  {
   "cell_type": "code",
   "execution_count": null,
   "id": "f471a21f",
   "metadata": {},
   "outputs": [],
   "source": [
    "[4, None, \"foo\"] + [7, 8, (2, 3)]"
   ]
  },
  {
   "cell_type": "markdown",
   "id": "6692b009",
   "metadata": {},
   "source": [
    "If you have a list already defined, you can append multiple elements to it using the `extend` method:"
   ]
  },
  {
   "cell_type": "code",
   "execution_count": null,
   "id": "f2eae84c",
   "metadata": {},
   "outputs": [],
   "source": [
    "dummy_list = [4, None, \"foo\"]\n",
    "\n",
    "dummy_list.extend([7, 8, (2, 3)])\n",
    "\n",
    "dummy_list"
   ]
  },
  {
   "cell_type": "markdown",
   "id": "51f624a2",
   "metadata": {},
   "source": [
    "Note that list concatenation by addition is a comparatively expensive operation since a new list must be created and the objects copied over. Using `extend` to append elements to an existing list, especially if you are building up a large list, is usually preferable. Thus:"
   ]
  },
  {
   "cell_type": "code",
   "execution_count": null,
   "id": "43bc4207",
   "metadata": {},
   "outputs": [],
   "source": [
    "everything = []\n",
    "for chunk in list_of_lists:\n",
    "    everything.extend(chunk)"
   ]
  },
  {
   "cell_type": "markdown",
   "id": "d0bb4f88",
   "metadata": {},
   "source": [
    "<h3>Sorting</h3>\n",
    "\n",
    "You can sort a list in place (without creating a new object) by calling its `sort` function:"
   ]
  },
  {
   "cell_type": "code",
   "execution_count": null,
   "id": "1016e73a",
   "metadata": {},
   "outputs": [],
   "source": [
    "a = [47, 22, 35, 11, 53]\n",
    "\n",
    "a.sort()\n",
    "\n",
    "a"
   ]
  },
  {
   "cell_type": "markdown",
   "id": "8f110c6f",
   "metadata": {},
   "source": [
    "`sort` has a few options that will occasionally come in handy. One is the ability to pass a secondary sort key—that is, a function that produces a value to use to sort the objects. For example, we could sort a collection of strings by their lengths:"
   ]
  },
  {
   "cell_type": "code",
   "execution_count": null,
   "id": "b9675383",
   "metadata": {},
   "outputs": [],
   "source": [
    "b = [\"saw\", \"small\", \"He\", \"foxes\", \"six\"]\n",
    "\n",
    "b.sort(key=len)\n",
    "\n",
    "b"
   ]
  },
  {
   "cell_type": "markdown",
   "id": "9dc2225e",
   "metadata": {},
   "source": [
    "<h3>Slicing</h3>\n",
    "\n",
    "You can select sections of most sequence types by using slice notation, which in its basic form consists of `start:stop` passed to the indexing operator []:"
   ]
  },
  {
   "cell_type": "code",
   "execution_count": null,
   "id": "5f266061",
   "metadata": {},
   "outputs": [],
   "source": [
    "seq = [7, 2, 3, 7, 5, 6, 0, 1]\n",
    "\n",
    "seq[1:5]"
   ]
  },
  {
   "cell_type": "markdown",
   "id": "46c1b0cd",
   "metadata": {},
   "source": [
    "Either the `start` or `stop` can be omitted, in which case they default to the start of the sequence and the end of the sequence, respectively:"
   ]
  },
  {
   "cell_type": "markdown",
   "id": "47369dd0",
   "metadata": {},
   "source": [
    "seq[:5]"
   ]
  },
  {
   "cell_type": "code",
   "execution_count": null,
   "id": "8d722aaa",
   "metadata": {},
   "outputs": [],
   "source": [
    "seq[2:]"
   ]
  },
  {
   "cell_type": "code",
   "execution_count": null,
   "id": "07402b6d",
   "metadata": {},
   "outputs": [],
   "source": [
    "seq[-4:]"
   ]
  },
  {
   "cell_type": "code",
   "execution_count": null,
   "id": "689e8bb3",
   "metadata": {},
   "outputs": [],
   "source": [
    "seq[-6:-2]"
   ]
  },
  {
   "cell_type": "markdown",
   "id": "1edd8e91",
   "metadata": {},
   "source": [
    "A `step` can also be used after a second colon to, say, take every other element:"
   ]
  },
  {
   "cell_type": "code",
   "execution_count": null,
   "id": "f2d1d615",
   "metadata": {},
   "outputs": [],
   "source": [
    "seq[::2]"
   ]
  },
  {
   "cell_type": "code",
   "execution_count": null,
   "id": "60cb5162",
   "metadata": {},
   "outputs": [],
   "source": [
    "seq[::-1]"
   ]
  },
  {
   "cell_type": "markdown",
   "id": "25ff96d6",
   "metadata": {},
   "source": [
    "<h2>Dictionary</h2>\n",
    "\n",
    "The dictionary or `dict` may be the most important built-in Python data structure. In other programming languages, dictionaries are sometimes called hash maps or associative arrays. A dictionary stores a collection of key-value pairs, where key and value are Python objects. Each key is associated with a value so that a value can be conveniently retrieved, inserted, modified, or deleted given a particular key. One approach for creating a dictionary is to use curly braces `{}` and colons to separate keys and values:"
   ]
  },
  {
   "cell_type": "code",
   "execution_count": null,
   "id": "a967952a",
   "metadata": {},
   "outputs": [],
   "source": [
    "empty_dict = {}\n",
    "\n",
    "d1 = {\"a\": \"some value\", \"b\": [1, 2, 3, 4]}\n",
    "\n",
    "d1"
   ]
  },
  {
   "cell_type": "markdown",
   "id": "85b6651a",
   "metadata": {},
   "source": [
    "You can access, insert, or set elements using the same syntax as for accessing elements of a list or tuple:"
   ]
  },
  {
   "cell_type": "code",
   "execution_count": null,
   "id": "0b45513f",
   "metadata": {},
   "outputs": [],
   "source": [
    "d1[7] = \"an integer\"\n",
    "\n",
    "d1"
   ]
  },
  {
   "cell_type": "markdown",
   "id": "7587cf53",
   "metadata": {},
   "source": [
    "You can check if a dictionary contains a key using the same syntax used for checking whether a list or tuple contains a value:"
   ]
  },
  {
   "cell_type": "code",
   "execution_count": null,
   "id": "efef2f44",
   "metadata": {},
   "outputs": [],
   "source": [
    "\"b\" in d1"
   ]
  },
  {
   "cell_type": "markdown",
   "id": "878309ac",
   "metadata": {},
   "source": [
    "You can delete values using either the `del` keyword or the `pop` method (which simultaneously returns the value and deletes the key):"
   ]
  },
  {
   "cell_type": "code",
   "execution_count": null,
   "id": "d4be2413",
   "metadata": {},
   "outputs": [],
   "source": [
    "d1[5] = \"some value\"\n",
    "\n",
    "d1"
   ]
  },
  {
   "cell_type": "code",
   "execution_count": null,
   "id": "c892d251",
   "metadata": {},
   "outputs": [],
   "source": [
    "d1[\"dummy\"] = \"another value\"\n",
    "\n",
    "d1"
   ]
  },
  {
   "cell_type": "code",
   "execution_count": null,
   "id": "fc7e1104",
   "metadata": {},
   "outputs": [],
   "source": [
    "del d1[5]\n",
    "\n",
    "d1"
   ]
  },
  {
   "cell_type": "code",
   "execution_count": null,
   "id": "36d5bf7f",
   "metadata": {},
   "outputs": [],
   "source": [
    "ret = d1.pop(\"dummy\")\n",
    "\n",
    "ret"
   ]
  },
  {
   "cell_type": "markdown",
   "id": "de05cdaa",
   "metadata": {},
   "source": [
    "The `keys` and `values` method gives you iterators of the dictionary's keys and values, respectively. The order of the keys depends on the order of their insertion, and these functions output the keys and values in the same respective order:"
   ]
  },
  {
   "cell_type": "code",
   "execution_count": null,
   "id": "06dbb4f5",
   "metadata": {},
   "outputs": [],
   "source": [
    "list(d1.keys())"
   ]
  },
  {
   "cell_type": "code",
   "execution_count": null,
   "id": "0ac50874",
   "metadata": {},
   "outputs": [],
   "source": [
    "list(d1.values())"
   ]
  },
  {
   "cell_type": "markdown",
   "id": "17e52e1d",
   "metadata": {},
   "source": [
    "If you need to iterate over both the keys and values, you can use the `items` method to iterate over the keys and values as 2-tuples:"
   ]
  },
  {
   "cell_type": "code",
   "execution_count": null,
   "id": "93f68f91",
   "metadata": {},
   "outputs": [],
   "source": [
    "list(d1.items())"
   ]
  },
  {
   "cell_type": "markdown",
   "id": "10afa7da",
   "metadata": {},
   "source": [
    "You can merge one dictionary into another using the `update` method:"
   ]
  },
  {
   "cell_type": "code",
   "execution_count": null,
   "id": "9b012a18",
   "metadata": {},
   "outputs": [],
   "source": [
    "d1.update({\"b\": \"foo\", \"c\": 12})\n",
    "\n",
    "d1"
   ]
  },
  {
   "cell_type": "markdown",
   "id": "8258759c",
   "metadata": {},
   "source": [
    "<h3>Creating dictionaries from sequences</h3>\n",
    "\n",
    "It’s common to occasionally end up with two sequences that you want to pair up element-wise in a dictionary. As a first cut, you might write code like this:"
   ]
  },
  {
   "cell_type": "code",
   "execution_count": null,
   "id": "46eb5a9e",
   "metadata": {},
   "outputs": [],
   "source": [
    "mapping = {}\n",
    "for key, value in zip(key_list, value_list):\n",
    "    mapping[key] = value"
   ]
  },
  {
   "cell_type": "markdown",
   "id": "704e71e6",
   "metadata": {},
   "source": [
    "Since a dictionary is essentially a collection of 2-tuples, the `dict` function accepts a list of 2-tuples:"
   ]
  },
  {
   "cell_type": "code",
   "execution_count": null,
   "id": "7bc45a35",
   "metadata": {},
   "outputs": [],
   "source": [
    "tuples = zip(range(5), reversed(range(5)))\n",
    "\n",
    "mapping = dict(tuples)\n",
    "\n",
    "mapping"
   ]
  },
  {
   "cell_type": "markdown",
   "id": "8f19c193",
   "metadata": {},
   "source": [
    "<h3>Default values</h3>"
   ]
  },
  {
   "cell_type": "code",
   "execution_count": null,
   "id": "2b6ce1d4",
   "metadata": {},
   "outputs": [],
   "source": [
    "if key in some_dict:\n",
    "    value = some_dict[key]\n",
    "else:\n",
    "    value = default_value"
   ]
  },
  {
   "cell_type": "markdown",
   "id": "5bea3c32",
   "metadata": {},
   "source": [
    "Thus, the dictionary methods `get` and `pop` can take a default value to be returned, so that the above `if-else` block can be written simply as:"
   ]
  },
  {
   "cell_type": "code",
   "execution_count": null,
   "id": "8b81a0b2",
   "metadata": {},
   "outputs": [],
   "source": [
    "value = some_dict.get(key, default_value)"
   ]
  },
  {
   "cell_type": "markdown",
   "id": "b5703010",
   "metadata": {},
   "source": [
    "`get` by default will return `None` if the key is not present, while `pop` will raise an exception. With setting values, it may be that the values in a dictionary are another kind of collection, like a list. For example, you could imagine categorizing a list of words by their first letters as a dictionary of lists:"
   ]
  },
  {
   "cell_type": "code",
   "execution_count": null,
   "id": "5767b11b",
   "metadata": {},
   "outputs": [],
   "source": [
    "words = [\"apple\", \"bat\", \"bar\", \"atom\", \"book\"]\n",
    "\n",
    "by_letter = {}\n",
    "\n",
    "for word in words:\n",
    "    letter = word[0]\n",
    "    if letter not in by_letter:\n",
    "        by_letter[letter] = [word]\n",
    "    else:\n",
    "        by_letter[letter].append(word)\n",
    "\n",
    "by_letter"
   ]
  },
  {
   "cell_type": "markdown",
   "id": "b7f14414",
   "metadata": {},
   "source": [
    "The `setdefault` dictionary method can be used to simplify this workflow. The preceding for loop can be rewritten as:"
   ]
  },
  {
   "cell_type": "code",
   "execution_count": null,
   "id": "91199e4f",
   "metadata": {},
   "outputs": [],
   "source": [
    "by_letter = {}\n",
    "\n",
    "for word in words:\n",
    "    letter = word[0]\n",
    "    by_letter.setdefault(letter, []).append(word)\n",
    "\n",
    "by_letter"
   ]
  },
  {
   "cell_type": "markdown",
   "id": "77a0168e",
   "metadata": {},
   "source": [
    "<h2>Set</h2>\n",
    "\n",
    "A set is an unordered collection of unique elements. A set can be created in two ways: via the `set` function or via a set literal with curly braces:"
   ]
  },
  {
   "cell_type": "code",
   "execution_count": null,
   "id": "a74031d4",
   "metadata": {},
   "outputs": [],
   "source": [
    "set([2, 2, 2, 1, 3, 3])"
   ]
  },
  {
   "cell_type": "markdown",
   "id": "782bcc08",
   "metadata": {},
   "source": [
    "Sets support mathematical set operations like union, intersection, difference, and symmetric difference. Consider these two example sets:"
   ]
  },
  {
   "cell_type": "code",
   "execution_count": null,
   "id": "83360c1c",
   "metadata": {},
   "outputs": [],
   "source": [
    "a = {1, 2, 3, 4, 5}\n",
    "\n",
    "b = {3, 4, 5, 6, 7, 8}\n",
    "\n",
    "a.union(b)\n",
    "\n",
    "# a | b\n",
    "\n",
    "# a.intersection(b)\n",
    "\n",
    "# a & b"
   ]
  },
  {
   "cell_type": "markdown",
   "id": "fb9be95e",
   "metadata": {},
   "source": [
    "All of the logical set operations have in-place counterparts, which enable you to replace the contents of the set on the left side of the operation with the result. For very large sets, this may be more efficient:"
   ]
  },
  {
   "cell_type": "code",
   "execution_count": null,
   "id": "ca32e522",
   "metadata": {},
   "outputs": [],
   "source": [
    "c = a.copy()\n",
    "\n",
    "c |= b\n",
    "\n",
    "c"
   ]
  },
  {
   "cell_type": "code",
   "execution_count": null,
   "id": "d01aadc7",
   "metadata": {},
   "outputs": [],
   "source": [
    "d = a.copy()\n",
    "\n",
    "d &= b\n",
    "\n",
    "d"
   ]
  },
  {
   "cell_type": "markdown",
   "id": "a67c7adf",
   "metadata": {},
   "source": [
    "You can also check if a set is a subset of (is contained in) or a superset of (contains all elements of) another set:"
   ]
  },
  {
   "cell_type": "code",
   "execution_count": null,
   "id": "871eaef6",
   "metadata": {},
   "outputs": [],
   "source": [
    "a_set = {1, 2, 3, 4, 5}\n",
    "\n",
    "{1, 2, 3}.issubset(a_set)\n",
    "\n",
    "# a_set.issuperset({1, 2, 3})"
   ]
  },
  {
   "cell_type": "markdown",
   "id": "bb967aa5",
   "metadata": {},
   "source": [
    "<h2>Built-In Sequence Functions</h2>\n",
    "\n",
    "<h3>enumerate</h3>\n",
    "\n",
    "It’s common when iterating over a sequence to want to keep track of the index of the current item. A do-it-yourself approach would look like:"
   ]
  },
  {
   "cell_type": "code",
   "execution_count": null,
   "id": "c18e05c2",
   "metadata": {},
   "outputs": [],
   "source": [
    "index = 0\n",
    "for value in collection:\n",
    "   # do something with value\n",
    "   index += 1"
   ]
  },
  {
   "cell_type": "markdown",
   "id": "c34b3ca1",
   "metadata": {},
   "source": [
    "Since this is so common, Python has a built-in function, `enumerate`, which returns a sequence of `(i, value)` tuples:"
   ]
  },
  {
   "cell_type": "code",
   "execution_count": null,
   "id": "64186d0e",
   "metadata": {},
   "outputs": [],
   "source": [
    "for index, value in enumerate(collection):\n",
    "   # do something with value\n",
    "   continue"
   ]
  },
  {
   "cell_type": "markdown",
   "id": "267c80aa",
   "metadata": {},
   "source": [
    "<h3>sorted</h3>\n",
    "\n",
    "The `sorted` function returns a new sorted list from the elements of any sequence:"
   ]
  },
  {
   "cell_type": "code",
   "execution_count": null,
   "id": "35a39939",
   "metadata": {},
   "outputs": [],
   "source": [
    "sorted([7, 1, 2, 6, 0, 3, 2])\n",
    "\n",
    "sorted(\"string\")"
   ]
  },
  {
   "cell_type": "markdown",
   "id": "bdc4e161",
   "metadata": {},
   "source": [
    "<h3>zip</h3>\n",
    "\n",
    "`zip` “pairs” up the elements of a number of lists, tuples, or other sequences to create a list of tuples:"
   ]
  },
  {
   "cell_type": "code",
   "execution_count": null,
   "id": "87fec912",
   "metadata": {},
   "outputs": [],
   "source": [
    "seq1 = [\"foo\", \"bar\", \"baz\"]\n",
    "\n",
    "seq2 = [\"one\", \"two\", \"three\"]\n",
    "\n",
    "zipped = zip(seq1, seq2)\n",
    "\n",
    "list(zipped)"
   ]
  },
  {
   "cell_type": "markdown",
   "id": "5c2ab8fb",
   "metadata": {},
   "source": [
    "`zip` can take an arbitrary number of sequences, and the number of elements it produces is determined by the shortest sequence:"
   ]
  },
  {
   "cell_type": "code",
   "execution_count": null,
   "id": "e3c0403a",
   "metadata": {},
   "outputs": [],
   "source": [
    "seq3 = [False, True]\n",
    "\n",
    "list(zip(seq1, seq2, seq3))"
   ]
  },
  {
   "cell_type": "code",
   "execution_count": null,
   "id": "9ba830ce",
   "metadata": {},
   "outputs": [],
   "source": [
    "for index, (a, b) in enumerate(zip(seq1, seq2)):\n",
    "    print(f\"{index}: {a}, {b}\")"
   ]
  },
  {
   "cell_type": "markdown",
   "id": "99e4ae2d",
   "metadata": {},
   "source": [
    "<h3>reversed</h3>\n",
    "\n",
    "`reversed` iterates over the elements of a sequence in reverse order:"
   ]
  },
  {
   "cell_type": "code",
   "execution_count": null,
   "id": "887053cd",
   "metadata": {},
   "outputs": [],
   "source": [
    "list(reversed(range(10)))"
   ]
  },
  {
   "cell_type": "markdown",
   "id": "4de303f6",
   "metadata": {},
   "source": [
    "<h2>List, Set, and Dictionary Comprehensions</h2>\n",
    "\n",
    "List `comprehensions` are a convenient and widely used Python language feature. They allow you to concisely form a new list by filtering the elements of a collection, transforming the elements passing the filter into one concise expression. They take the basic form:\n",
    "\n",
    "[expr for value in collection if condition]\n",
    "\n",
    "This is equivalent to the following `for` loop:"
   ]
  },
  {
   "cell_type": "code",
   "execution_count": null,
   "id": "9ba1cbc1",
   "metadata": {},
   "outputs": [],
   "source": [
    "result = []\n",
    "for value in collection:\n",
    "    if condition:\n",
    "        result.append(expr)"
   ]
  },
  {
   "cell_type": "markdown",
   "id": "f5513ee5",
   "metadata": {},
   "source": [
    "The filter condition can be omitted, leaving only the expression. For example, given a list of strings, we could filter out strings with length 2 or less and convert them to uppercase like this:"
   ]
  },
  {
   "cell_type": "code",
   "execution_count": null,
   "id": "8e1635e7",
   "metadata": {},
   "outputs": [],
   "source": [
    "strings = [\"a\", \"as\", \"bat\", \"car\", \"dove\", \"python\"]\n",
    "\n",
    "[x.upper() for x in strings if len(x) > 2]"
   ]
  },
  {
   "cell_type": "markdown",
   "id": "32adf88a",
   "metadata": {},
   "source": [
    "Set and dictionary comprehensions are a natural extension, producing sets and dictionaries in an idiomatically similar way instead of lists.\n",
    "\n",
    "A `set` comprehension looks like this:"
   ]
  },
  {
   "cell_type": "code",
   "execution_count": null,
   "id": "ff28e2d5",
   "metadata": {},
   "outputs": [],
   "source": [
    "set_comp = {expr for value in collection if condition}"
   ]
  },
  {
   "cell_type": "markdown",
   "id": "49c3a861",
   "metadata": {},
   "source": [
    "A `dictionary` comprehension looks like the equivalent list comprehension except with curly braces instead of square brackets:"
   ]
  },
  {
   "cell_type": "code",
   "execution_count": null,
   "id": "77d00d74",
   "metadata": {},
   "outputs": [],
   "source": [
    "dict_comp = {key-expr: value-expr for value in collection if condition}"
   ]
  },
  {
   "cell_type": "markdown",
   "id": "63a2855a",
   "metadata": {},
   "source": [
    "As a simple dictionary comprehension example, we could create a lookup map of these strings for their locations in the list:"
   ]
  },
  {
   "cell_type": "code",
   "execution_count": null,
   "id": "44a2102b",
   "metadata": {},
   "outputs": [],
   "source": [
    "loc_mapping = {value: index for index, value in enumerate(strings)}\n",
    "\n",
    "loc_mapping"
   ]
  },
  {
   "cell_type": "markdown",
   "id": "a800fd3d",
   "metadata": {},
   "source": [
    "<h3>Nested list comprehensions</h3>\n",
    "\n",
    "Suppose we have a list of lists containing some English and Spanish names:"
   ]
  },
  {
   "cell_type": "code",
   "execution_count": null,
   "id": "5d38760d",
   "metadata": {},
   "outputs": [],
   "source": [
    "all_data = [[\"John\", \"Emily\", \"Michael\", \"Mary\", \"Steven\"],\n",
    "    [\"Maria\", \"Juan\", \"Javier\", \"Natalia\", \"Pilar\"]]"
   ]
  },
  {
   "cell_type": "markdown",
   "id": "f2b2fd97",
   "metadata": {},
   "source": [
    "Suppose we wanted to get a single list containing all names with two or more a’s in them. We could certainly do this with a simple for loop:"
   ]
  },
  {
   "cell_type": "code",
   "execution_count": null,
   "id": "c2693f5e",
   "metadata": {},
   "outputs": [],
   "source": [
    "names_of_interest = []\n",
    "\n",
    "for names in all_data:\n",
    "    enough_as = [name for name in names if name.count(\"a\") >= 2]\n",
    "    names_of_interest.extend(enough_as)\n",
    "\n",
    "names_of_interest"
   ]
  },
  {
   "cell_type": "code",
   "execution_count": null,
   "id": "45198439",
   "metadata": {},
   "outputs": [],
   "source": [
    "# result_element for inner_list in original_list for result_element in innerlist\n",
    "result = [name for names in all_data for name in names\n",
    "    if name.count(\"a\") >= 2]\n",
    "\n",
    "result"
   ]
  },
  {
   "cell_type": "markdown",
   "id": "64f7c368",
   "metadata": {},
   "source": [
    "At first, nested list comprehensions are a bit hard to wrap your head around. The `for` parts of the list comprehension are arranged according to the order of nesting, and any filter condition is put at the end as before. Here is another example where we “flatten” a list of tuples of integers into a simple list of integers:"
   ]
  },
  {
   "cell_type": "code",
   "execution_count": null,
   "id": "4e7ed5d4",
   "metadata": {},
   "outputs": [],
   "source": [
    "some_tuples = [(1, 2, 3), (4, 5, 6), (7, 8, 9)]\n",
    "\n",
    "flattened = [x for tup in some_tuples for x in tup]\n",
    "\n",
    "flattened"
   ]
  },
  {
   "cell_type": "markdown",
   "id": "bcdb9f56",
   "metadata": {},
   "source": [
    "Keep in mind that the order of the `for` expressions would be the same if you wrote a nested `for` loop instead of a list comprehension:"
   ]
  },
  {
   "cell_type": "code",
   "execution_count": null,
   "id": "0bb30e85",
   "metadata": {},
   "outputs": [],
   "source": [
    "flattened = []\n",
    "\n",
    "for tup in some_tuples:\n",
    "    for x in tup:\n",
    "        flattened.append(x)"
   ]
  },
  {
   "cell_type": "markdown",
   "id": "0c455afa",
   "metadata": {},
   "source": [
    "<h2>Functions</h2>\n",
    "\n",
    "Functions are the primary and most important method of code organization and reuse in Python. As a rule of thumb, if you anticipate needing to repeat the same or very similar code more than once, it may be worth writing a reusable function. Functions can also help make your code more readable by giving a name to a group of Python statements.\n",
    "\n",
    "Functions are declared with the `def` keyword. A function contains a block of code with an optional use of the `return` keyword:"
   ]
  },
  {
   "cell_type": "code",
   "execution_count": null,
   "id": "44a02b6d",
   "metadata": {},
   "outputs": [],
   "source": [
    "def my_function(x, y):\n",
    "    return x + y"
   ]
  },
  {
   "cell_type": "markdown",
   "id": "44a97df6",
   "metadata": {},
   "source": [
    "When a line with `return` is reached, the value or expression after `return` is sent to the context where the function was called, for example:"
   ]
  },
  {
   "cell_type": "code",
   "execution_count": null,
   "id": "4239557e",
   "metadata": {},
   "outputs": [],
   "source": [
    "result = my_function(1, 2)\n",
    "\n",
    "result"
   ]
  },
  {
   "cell_type": "markdown",
   "id": "7f8ba539",
   "metadata": {},
   "source": [
    "There is no issue with having multiple return statements. If Python reaches the end of a function without encountering a `return` statement, `None` is returned automatically. For example:"
   ]
  },
  {
   "cell_type": "code",
   "execution_count": null,
   "id": "6c4fd587",
   "metadata": {},
   "outputs": [],
   "source": [
    "def function_without_return(x):\n",
    "    print(x)\n",
    "\n",
    "result = function_without_return(\"hello!\")\n",
    "\n",
    "print(result)\n",
    "None"
   ]
  },
  {
   "cell_type": "markdown",
   "id": "1f0826c1",
   "metadata": {},
   "source": [
    "Each function can have positional arguments and keyword arguments. Keyword arguments are most commonly used to specify default values or optional arguments. Here we will define a function with an optional `z` argument with the default value `1.5`:"
   ]
  },
  {
   "cell_type": "code",
   "execution_count": null,
   "id": "cf51e2b2",
   "metadata": {},
   "outputs": [],
   "source": [
    "def my_function2(x, y, z=1.5):\n",
    "    if z > 1:\n",
    "        return z * (x + y)\n",
    "    else:\n",
    "        return z / (x + y)"
   ]
  },
  {
   "cell_type": "markdown",
   "id": "60ce46ca",
   "metadata": {},
   "source": [
    "While keyword arguments are optional, all positional arguments must be specified when calling a function.\n",
    "\n",
    "You can pass values to the `z` argument with or without the keyword provided, though using the keyword is encouraged:"
   ]
  },
  {
   "cell_type": "code",
   "execution_count": null,
   "id": "2ff8c36a",
   "metadata": {},
   "outputs": [],
   "source": [
    "# my_function2(5, 6, z=0.7)\n",
    "\n",
    "my_function2(10, 20)"
   ]
  },
  {
   "cell_type": "markdown",
   "id": "938e96bb",
   "metadata": {},
   "source": [
    "<h3>Namespaces, Scope, and Local Functions</h3>\n",
    "\n",
    "Functions can access variables created inside the function as well as those outside the function in higher (or even global) scopes. An alternative and more descriptive name describing a variable scope in Python is a namespace. Any variables that are assigned within a function by default are assigned to the local namespace. The local namespace is created when the function is called and is immediately populated by the function’s arguments. After the function is finished, the local namespace is destroyed (with some exceptions) Consider the following function:"
   ]
  },
  {
   "cell_type": "code",
   "execution_count": null,
   "id": "c5e0d0ea",
   "metadata": {},
   "outputs": [],
   "source": [
    "def func():\n",
    "    a = []\n",
    "    for i in range(5):\n",
    "        a.append(i)"
   ]
  },
  {
   "cell_type": "markdown",
   "id": "be48c14c",
   "metadata": {},
   "source": [
    "When `func()` is called, the empty list `a` is created, five elements are appended, and then a is destroyed when the function exits. Suppose instead we had declared `a` as follows:"
   ]
  },
  {
   "cell_type": "code",
   "execution_count": null,
   "id": "59509542",
   "metadata": {},
   "outputs": [],
   "source": [
    "a = []\n",
    "\n",
    "def func():\n",
    "    for i in range(5):\n",
    "        a.append(i)\n",
    "\n",
    "func()\n",
    "\n",
    "a"
   ]
  },
  {
   "cell_type": "markdown",
   "id": "36aa79cd",
   "metadata": {},
   "source": [
    "Assigning variables outside of the function's scope is possible, but those variables must be declared explicitly using either the `global` or `nonlocal` keywords:"
   ]
  },
  {
   "cell_type": "code",
   "execution_count": null,
   "id": "6d4dc376",
   "metadata": {},
   "outputs": [],
   "source": [
    "a = None\n",
    "\n",
    "def bind_a_variable():\n",
    "    global a\n",
    "    a = []\n",
    "    \n",
    "bind_a_variable()\n",
    "\n",
    "print(a)"
   ]
  },
  {
   "cell_type": "markdown",
   "id": "00057c05",
   "metadata": {},
   "source": [
    "<style>\n",
    "    div {\n",
    "    margin-bottom: 15px;\n",
    "    padding: 4px 12px;\n",
    "    width: 1130px;\n",
    "    }\n",
    "\n",
    "    .danger {\n",
    "    background-color: #ffdddd;\n",
    "    border-left: 6px solid #f44336;\n",
    "    }\n",
    "</style>\n",
    "\n",
    "<div class=\"danger\">\n",
    "  <p style=\"color:black;\"><strong>Note!</strong> I generally discourage use of the global keyword. Typically, global variables are used to store some kind of state in a system. If you find yourself using alot of them, it may indicate a need for object-oriented programming (using classes).</p>\n",
    "</div>\n"
   ]
  },
  {
   "cell_type": "markdown",
   "id": "fa3c245c",
   "metadata": {},
   "source": [
    "<h3>Returning Multiple Values</h3>\n",
    "\n",
    "When I first programmed in Python after having programmed in Java and C++, one of my favorite features was the ability to return multiple values from a function with simple syntax. Here’s an example:"
   ]
  },
  {
   "cell_type": "code",
   "execution_count": null,
   "id": "4b772940",
   "metadata": {},
   "outputs": [],
   "source": [
    "def f():\n",
    "    a = 5\n",
    "    b = 6\n",
    "    c = 7\n",
    "    return a, b, c\n",
    "\n",
    "a, b, c = f()"
   ]
  },
  {
   "cell_type": "markdown",
   "id": "89e998dc",
   "metadata": {},
   "source": [
    "In data analysis and other scientific applications, you may find yourself doing this often. What’s happening here is that the function is actually just returning one object, a tuple, which is then being unpacked into the result variables. "
   ]
  },
  {
   "cell_type": "markdown",
   "id": "58e6b447",
   "metadata": {},
   "source": [
    "<h3>Functions Are Objects</h3>\n",
    "\n",
    "Since Python functions are objects, many constructs can be easily expressed that are difficult to do in other languages. Suppose we were doing some data cleaning and needed to apply a bunch of transformations.\n",
    "\n",
    "Anyone who has ever worked with user-submitted survey data has seen messy results like these. Lots of things need to happen to make this list of strings uniform and ready for analysis: stripping whitespace, removing punctuation symbols, and standardizing proper capitalization. One way to do this is to use built-in string methods along with the re standard library module for regular expressions:"
   ]
  },
  {
   "cell_type": "code",
   "execution_count": null,
   "id": "468b0855",
   "metadata": {},
   "outputs": [],
   "source": [
    "import re\n",
    "\n",
    "states = [\"   Alabama \", \"Georgia!\", \"Georgia\", \"georgia\", \"FlOrIda\", \"south   carolina##\", \"West virginia?\"]\n",
    "\n",
    "def clean_strings(strings):\n",
    "    result = []\n",
    "    for value in strings:\n",
    "        value = value.strip()\n",
    "        value = re.sub(\"[!#?]\", \"\", value)\n",
    "        value = value.title()\n",
    "        result.append(value)\n",
    "    return result\n",
    "\n",
    "clean_strings(states)"
   ]
  },
  {
   "cell_type": "markdown",
   "id": "3916b76f",
   "metadata": {},
   "source": [
    "An alternative approach that you may find useful is to make a list of the operations you want to apply to a particular set of strings:"
   ]
  },
  {
   "cell_type": "code",
   "execution_count": null,
   "id": "762c56b8",
   "metadata": {},
   "outputs": [],
   "source": [
    "def remove_punctuation(value):\n",
    "    return re.sub(\"[!#?]\", \"\", value)\n",
    "\n",
    "clean_ops = [str.strip, remove_punctuation, str.title]\n",
    "\n",
    "def clean_strings(strings, ops):\n",
    "    result = []\n",
    "    for value in strings:\n",
    "        for func in ops:\n",
    "            value = func(value)\n",
    "        result.append(value)\n",
    "    return result\n",
    "\n",
    "clean_strings(states, clean_ops)"
   ]
  },
  {
   "cell_type": "markdown",
   "id": "a6b602e6",
   "metadata": {},
   "source": [
    "You can use functions as arguments to other functions like the built-in `map` function, which applies a function to a sequence of some kind:"
   ]
  },
  {
   "cell_type": "code",
   "execution_count": null,
   "id": "6711c48a",
   "metadata": {},
   "outputs": [],
   "source": [
    "for x in map(remove_punctuation, states):\n",
    "    print(x)"
   ]
  },
  {
   "cell_type": "markdown",
   "id": "6fdc66d0",
   "metadata": {},
   "source": [
    "<h3>Anonymous (Lambda) Functions</h3>\n",
    "\n",
    "Python has support for so-called anonymous or lambda functions, which are a way of writing functions consisting of a single statement, the result of which is the return value. They are defined with the `lambda` keyword, which has no meaning other than “we are declaring an anonymous function”:"
   ]
  },
  {
   "cell_type": "code",
   "execution_count": null,
   "id": "8fc1aa1b",
   "metadata": {},
   "outputs": [],
   "source": [
    "def short_function(x):\n",
    "    return x * 2\n",
    "\n",
    "equiv_anon = lambda x: x * 2"
   ]
  },
  {
   "cell_type": "markdown",
   "id": "1ceb4923",
   "metadata": {},
   "source": [
    "I usually refer to these as lambda functions in the rest of the book. They are especially convenient in data analysis because, as you’ll see, there are many cases where data transformation functions will take functions as arguments. It’s often less typing (and clearer) to pass a lambda function as opposed to writing a full-out function declaration or even assigning the lambda function to a local variable. Consider this example:"
   ]
  },
  {
   "cell_type": "code",
   "execution_count": null,
   "id": "753e55b1",
   "metadata": {},
   "outputs": [],
   "source": [
    "def apply_to_list(some_list, f):\n",
    "    return [f(x) for x in some_list]\n",
    "\n",
    "ints = [4, 0, 1, 5, 6]\n",
    "\n",
    "apply_to_list(ints, lambda x: x * 2)"
   ]
  },
  {
   "cell_type": "markdown",
   "id": "d5e12fa7",
   "metadata": {},
   "source": [
    "As another example, suppose you wanted to sort a collection of strings by the number of distinct letters in each string, here we could pass a lambda function to the list’s sort method:"
   ]
  },
  {
   "cell_type": "code",
   "execution_count": null,
   "id": "f9f5f181",
   "metadata": {},
   "outputs": [],
   "source": [
    "strings = [\"foo\", \"card\", \"bar\", \"aaaa\", \"abab\"]\n",
    "\n",
    "strings.sort(key=lambda x: len(set(x)))\n",
    "\n",
    "strings"
   ]
  },
  {
   "cell_type": "markdown",
   "id": "2cee8534",
   "metadata": {},
   "source": [
    "<h3>Errors and Exception Handling</h3>\n",
    "\n",
    "Handling Python errors or exceptions gracefully is an important part of building robust programs. In data analysis applications, many functions work only on certain kinds of input. As an example, Python’s `float` function is capable of casting a string to a floating-point number, but it fails with ValueError on improper inputs:"
   ]
  },
  {
   "cell_type": "code",
   "execution_count": null,
   "id": "1d5add1c",
   "metadata": {},
   "outputs": [],
   "source": [
    "# float(\"1.2345\")\n",
    "\n",
    "float(\"string\")"
   ]
  },
  {
   "cell_type": "markdown",
   "id": "3de2a809",
   "metadata": {},
   "source": [
    "Suppose we wanted a version of `float` that fails gracefully, returning the input argument. We can do this by writing a function that encloses the call to float in a `try/except` block (execute this code in IPython):"
   ]
  },
  {
   "cell_type": "code",
   "execution_count": null,
   "id": "cd644198",
   "metadata": {},
   "outputs": [],
   "source": [
    "def attempt_float(x):\n",
    "    try:\n",
    "        return float(x)\n",
    "    except:\n",
    "        return x\n",
    "\n",
    "# attempt_float(\"1.2345\")\n",
    "\n",
    "attempt_float(\"string\")"
   ]
  },
  {
   "cell_type": "code",
   "execution_count": null,
   "id": "6ca7f4b4",
   "metadata": {},
   "outputs": [],
   "source": [
    "# def attempt_float(x):\n",
    "#     try:\n",
    "#         return float(x)\n",
    "#     except ValueError:\n",
    "#         return x"
   ]
  },
  {
   "cell_type": "markdown",
   "id": "dd79f2bb",
   "metadata": {},
   "source": [
    "Here, the file object `f` will always get closed. Similarly, you can have code that executes only if the `try`: block succeeds using `else`:"
   ]
  },
  {
   "cell_type": "code",
   "execution_count": null,
   "id": "12374be5",
   "metadata": {},
   "outputs": [],
   "source": [
    "f = open(path, mode=\"w\")\n",
    "\n",
    "try:\n",
    "    write_to_file(f)\n",
    "except:\n",
    "    print(\"Failed\")\n",
    "else:\n",
    "    print(\"Succeeded\")\n",
    "finally:\n",
    "    f.close()"
   ]
  },
  {
   "cell_type": "markdown",
   "id": "7941968b",
   "metadata": {},
   "source": [
    "<h2>Files and the Operating System</h2>\n",
    "\n",
    "It’s important to understand the basics of how to work with files in Python. Fortunately, it’s relatively straightforward, which is one reason Python is so popular for text and file munging.\n",
    "To open a file for reading or writing, use the built-in open function with either a relative or absolute file path and an optional file encoding:"
   ]
  },
  {
   "cell_type": "code",
   "execution_count": null,
   "id": "e3517ba8",
   "metadata": {},
   "outputs": [],
   "source": [
    "path = \"examples/segismundo.txt\"\n",
    "\n",
    "f = open(path, encoding=\"utf-8\")"
   ]
  },
  {
   "cell_type": "markdown",
   "id": "5b85d59c",
   "metadata": {},
   "source": [
    "Here, I pass `encoding=\"utf-8\"` as a best practice because the default Unicode encoding for reading files varies from platform to platform.\n",
    "\n",
    "By default, the file is opened in read-only mode `\"r\"`. We can then treat the file object `f` like a list and iterate over the lines like so:"
   ]
  },
  {
   "cell_type": "code",
   "execution_count": null,
   "id": "bea37e56",
   "metadata": {},
   "outputs": [],
   "source": [
    "for line in f:\n",
    "    print(line)"
   ]
  },
  {
   "cell_type": "markdown",
   "id": "414ecc5a",
   "metadata": {},
   "source": [
    "When you use `open` to create file objects, it is recommended to close the file when you are finished with it. Closing the file releases its resources back to the operating system:"
   ]
  },
  {
   "cell_type": "code",
   "execution_count": null,
   "id": "1e37cf6e",
   "metadata": {},
   "outputs": [],
   "source": [
    "f.close()"
   ]
  },
  {
   "cell_type": "markdown",
   "id": "7185ac0f",
   "metadata": {},
   "source": [
    "One of the ways to make it easier to clean up open files is to use the `with` statement:"
   ]
  },
  {
   "cell_type": "code",
   "execution_count": null,
   "id": "b401aced",
   "metadata": {},
   "outputs": [],
   "source": [
    "with open(path, encoding=\"utf-8\") as f:\n",
    "    lines = [x.rstrip() for x in f]"
   ]
  }
 ],
 "metadata": {
  "kernelspec": {
   "display_name": "Python3.8 (default)",
   "language": "python",
   "name": "python38"
  },
  "language_info": {
   "codemirror_mode": {
    "name": "ipython",
    "version": 3
   },
   "file_extension": ".py",
   "mimetype": "text/x-python",
   "name": "python",
   "nbconvert_exporter": "python",
   "pygments_lexer": "ipython3",
   "version": "3.8.13"
  }
 },
 "nbformat": 4,
 "nbformat_minor": 5
}
