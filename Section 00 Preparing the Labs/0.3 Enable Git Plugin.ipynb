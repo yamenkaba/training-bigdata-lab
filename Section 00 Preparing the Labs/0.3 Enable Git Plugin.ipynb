{
 "cells": [
  {
   "cell_type": "markdown",
   "metadata": {},
   "source": [
    "<h1>Enable Git Plugin in JupyterLab</h1>\n",
    "\n",
    "<h2>Prepare Git Repository</h2>\n",
    "\n",
    "<h3>Create the Git Repository</h3>\n",
    "\n",
    "![create-git-repo](images/create-git-repo.png)"
   ]
  },
  {
   "cell_type": "markdown",
   "metadata": {},
   "source": [
    "### Create Token\n",
    "Create Github token by following the steps in this <a href=\"https://docs.github.com/en/enterprise-server@3.4/authentication/keeping-your-account-and-data-secure/creating-a-personal-access-token\">link</a>."
   ]
  },
  {
   "cell_type": "markdown",
   "metadata": {},
   "source": [
    "<h2>Install and Configure jupyterlab-git Extention</h2>\n",
    "\n",
    "<h3>Install Git</h3>"
   ]
  },
  {
   "cell_type": "code",
   "execution_count": null,
   "metadata": {
    "vscode": {
     "languageId": "shellscript"
    }
   },
   "outputs": [],
   "source": [
    "# Install git\n",
    "yum install git -y\n",
    "\n",
    "# Check git version\n",
    "git --version"
   ]
  },
  {
   "cell_type": "markdown",
   "metadata": {},
   "source": [
    "<h3>Install the Extention</h3>"
   ]
  },
  {
   "cell_type": "code",
   "execution_count": null,
   "metadata": {
    "vscode": {
     "languageId": "shellscript"
    }
   },
   "outputs": [],
   "source": [
    "# Source into jupyterhub environment\n",
    "source /opt/jupyterhub/bin/activate\n",
    "\n",
    "pip install --upgrade jupyterlab jupyterlab-git\n",
    "\n",
    "# Restart JupyterHub\n",
    "systemctl restart jupyterhub"
   ]
  },
  {
   "cell_type": "markdown",
   "metadata": {},
   "source": [
    "<h3>Get the Repository Link</h3>\n",
    "\n",
    "![get-repo-link](images/get-repo-link.png)"
   ]
  },
  {
   "cell_type": "markdown",
   "metadata": {},
   "source": [
    "<h3>Clone the Repository</h3>\n",
    "\n",
    "![clone-the-repo](images/clone-the-repo.png)\n",
    "![insert-repo-link](images/insert-repo-link.png)"
   ]
  }
 ],
 "metadata": {
  "kernelspec": {
   "display_name": "Python 3.10.7 64-bit",
   "language": "python",
   "name": "python3"
  },
  "language_info": {
   "name": "python",
   "version": "3.10.7"
  },
  "orig_nbformat": 4,
  "vscode": {
   "interpreter": {
    "hash": "ec3a724ff662ede54089d8c0bc916d65e9da1859882934a442dfe598498fa369"
   }
  }
 },
 "nbformat": 4,
 "nbformat_minor": 2
}
