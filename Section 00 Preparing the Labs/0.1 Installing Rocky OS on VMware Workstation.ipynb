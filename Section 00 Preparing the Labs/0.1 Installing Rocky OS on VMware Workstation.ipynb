{
 "cells": [
  {
   "cell_type": "markdown",
   "metadata": {},
   "source": [
    "<h1>Installing Rocky OS</h1>"
   ]
  },
  {
   "cell_type": "markdown",
   "metadata": {},
   "source": [
    "<h2>Downloading the ISO</h2>\n",
    "Download the ISO file from the following <a href=\"https://rockylinux.org/download\">link</a>"
   ]
  },
  {
   "cell_type": "markdown",
   "metadata": {},
   "source": [
    "<h2>Creating the VM</h2>\n",
    "<h3>Selecting the ISO File</h3>\n",
    "\n",
    "![choosing-the-iso-file](images/choosing-the-iso-file.png)"
   ]
  },
  {
   "cell_type": "markdown",
   "metadata": {},
   "source": [
    "<h3>The VM Name</h3>\n",
    "\n",
    "![choosing-vm-name](images/choosing-vm-name.png)"
   ]
  },
  {
   "cell_type": "markdown",
   "metadata": {},
   "source": [
    "<h3>The OS Type and Version</h3>\n",
    "\n",
    "![choosing-os-type-and-version](images/choosing-os-type-and-version.png)"
   ]
  },
  {
   "cell_type": "markdown",
   "metadata": {},
   "source": [
    "<h3>Disk Space</h3>\n",
    "\n",
    "![disk-space](images/disk-space.png)"
   ]
  },
  {
   "cell_type": "markdown",
   "metadata": {},
   "source": [
    "<h3>The VM Hardware Customization</h3>\n",
    "\n",
    "![customize-hardware](images/customize-hardware.png)"
   ]
  }
 ],
 "metadata": {
  "kernelspec": {
   "display_name": "Python 3.10.7 64-bit",
   "language": "python",
   "name": "python3"
  },
  "language_info": {
   "name": "python",
   "version": "3.10.7"
  },
  "orig_nbformat": 4,
  "vscode": {
   "interpreter": {
    "hash": "ec3a724ff662ede54089d8c0bc916d65e9da1859882934a442dfe598498fa369"
   }
  }
 },
 "nbformat": 4,
 "nbformat_minor": 2
}
