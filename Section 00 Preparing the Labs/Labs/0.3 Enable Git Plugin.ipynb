{
 "cells": [
  {
   "cell_type": "markdown",
   "metadata": {},
   "source": [
    "<h1>Enable Git Plugin in JupyterLab</h1>\n",
    "\n",
    "<h2>Prepare Git Repository</h2>\n",
    "\n",
    "<h3>Create the Git Repository</h3>\n",
    "\n",
    "![create-git-repo](../Images/create-git-repo.png)"
   ]
  },
  {
   "cell_type": "markdown",
   "metadata": {},
   "source": [
    "<h3><a href=\"https://docs.github.com/en/enterprise-server@3.4/authentication/keeping-your-account-and-data-secure/creating-a-personal-access-token\">Create Token</a></h3>"
   ]
  },
  {
   "cell_type": "markdown",
   "metadata": {},
   "source": [
    "<h2>Install and Configure jupyterlab-git Extention</h2>\n",
    "\n",
    "<h3>Install Git</h3>"
   ]
  },
  {
   "cell_type": "code",
   "execution_count": null,
   "metadata": {
    "vscode": {
     "languageId": "shellscript"
    }
   },
   "outputs": [],
   "source": [
    "sudo yum install git\n",
    "\n",
    "# Check git version\n",
    "git --version"
   ]
  },
  {
   "cell_type": "markdown",
   "metadata": {},
   "source": [
    "<h3>Install the Extention</h3>"
   ]
  },
  {
   "cell_type": "code",
   "execution_count": null,
   "metadata": {
    "vscode": {
     "languageId": "shellscript"
    }
   },
   "outputs": [],
   "source": [
    "/opt/jupyterhub/bin/pip install --upgrade jupyterlab jupyterlab-git\n",
    "\n",
    "# Restart JupyterHub\n",
    "sudo systemclt restart jupyterhub"
   ]
  },
  {
   "cell_type": "markdown",
   "metadata": {},
   "source": [
    "<h3>Get the Repository Link</h3>\n",
    "\n",
    "![get-repo-link](../Images/get-repo-link.png)"
   ]
  },
  {
   "cell_type": "markdown",
   "metadata": {},
   "source": [
    "<h3>Clone the Repository</h3>\n",
    "\n",
    "![clone-the-repo](../Images/clone-the-repo.png)\n",
    "![insert-repo-link](../Images/insert-repo-link.png)"
   ]
  }
 ],
 "metadata": {
  "language_info": {
   "name": "python"
  },
  "orig_nbformat": 4
 },
 "nbformat": 4,
 "nbformat_minor": 2
}
