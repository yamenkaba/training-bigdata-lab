{
 "cells": [
  {
   "cell_type": "markdown",
   "metadata": {},
   "source": [
    "# Introduction to Built-in Data Sources\n",
    "Spark SQL:\n",
    "- Provides the engine upon which the high-level Structured APIs we explored previously are built.\n",
    "- Can read and write data in a variety of structured formats (e.g., JSON, Hive tables, Parquet, Avro, ORC, CSV).\n",
    "- Lets you query data using JDBC/ODBC connectors from external business intelligence (BI) data sources such as Tableau, Power BI, Talend, or from RDBMSs such as MySQL and PostgreSQL.\n",
    "- Offers an interactive shell to issue SQL queries on your structured data.\n",
    "- Supports ANSI SQL:2003-compliant commands and HiveQL."
   ]
  },
  {
   "cell_type": "markdown",
   "metadata": {},
   "source": [
    "image"
   ]
  },
  {
   "cell_type": "markdown",
   "metadata": {},
   "source": [
    "## Using Spark SQL in Spark Applications\n",
    "The SparkSession, introduced in Spark 2.0, provides a unified entry point for programming Spark with the Structured APIs. You can use a SparkSession to access Spark functionality.\n",
    "To issue any SQL query, use the `sql()` method on the `SparkSession` instance, spark, such as `spark.sql(\"SELECT * FROM tableName\")`. All  `spark.sql` queries executed in this manner return a DataFrame on which you may perform further Spark operations if you desire.\n",
    "\n",
    "### Basic Query Examples\n",
    "The U.S. Department of Transportation's (DOT) Bureau of Transportation Statistics (BTS) tracks the on-time performance of domestic flights operated by large air carriers. Summary information on the number of on-time, delayed, canceled and diverted flights appears in DOT's monthly Air Travel Consumer Report, published about 30 days after the month's end, as well as in summary tables posted on this website. BTS began collecting details on the causes of flight delays in June 2003. Summary statistics and raw data are made available to the public at the time the Air Travel Consumer Report is released.\n",
    "Data is available as a CSV file with over a million records. Using a schema, we’ll read the data into a DataFrame and register\n",
    "the DataFrame as a temporary view so we can query it with SQL."
   ]
  },
  {
   "cell_type": "code",
   "execution_count": 1,
   "metadata": {},
   "outputs": [],
   "source": [
    "import findspark\n",
    "\n",
    "# If you know spark path you can specify it as init function parameter\n",
    "findspark.init()"
   ]
  },
  {
   "cell_type": "code",
   "execution_count": 2,
   "metadata": {},
   "outputs": [],
   "source": [
    "from pyspark.sql import SparkSession\n",
    "\n",
    "# Create a SparkSession\n",
    "spark = (SparkSession\n",
    "            .builder\n",
    "            .appName(\"SparkSQLandDFsPart1\")\n",
    "            .enableHiveSupport()\n",
    "            .getOrCreate())"
   ]
  },
  {
   "cell_type": "code",
   "execution_count": 3,
   "metadata": {},
   "outputs": [],
   "source": [
    "# Path to data set\n",
    "csv_file = \"../data/DelayedFlights.csv\"\n",
    "\n",
    "# Read and create a temporary view\n",
    "# Infer schema (note that for larger files you\n",
    "# may want to specify the schema)\n",
    "df = (spark.read.format(\"csv\")\n",
    "        .option(\"inferSchema\", \"true\")\n",
    "        .option(\"header\", \"true\")\n",
    "        .load(csv_file))\n",
    "\n",
    "df.createOrReplaceTempView(\"us_delay_flights_tbl\")"
   ]
  },
  {
   "cell_type": "markdown",
   "metadata": {},
   "source": [
    "<b>Note!</b> If you want to specify a schema, you can use a DDL-formatted string. For example:\n",
    "\n",
    "`schema = \"date STRING, delay INT, distance INT, origin STRING, destination STRING\"`"
   ]
  },
  {
   "cell_type": "markdown",
   "metadata": {},
   "source": [
    "Now that we have a temporary view, we can issue SQL queries using Spark SQL. These queries are no different from those you might issue against a SQL table (ex: MySQL or PostgreSQL) database. The point here is to show that Spark SQL offers an `ANSI:2003–compliant` SQL interface, and to demonstrate the interoperability between SQL and DataFrames."
   ]
  },
  {
   "cell_type": "code",
   "execution_count": 4,
   "metadata": {},
   "outputs": [
    {
     "name": "stdout",
     "output_type": "stream",
     "text": [
      "root\n",
      " |-- _c0: integer (nullable = true)\n",
      " |-- Year: integer (nullable = true)\n",
      " |-- Month: integer (nullable = true)\n",
      " |-- DayofMonth: integer (nullable = true)\n",
      " |-- DayOfWeek: integer (nullable = true)\n",
      " |-- DepTime: double (nullable = true)\n",
      " |-- CRSDepTime: integer (nullable = true)\n",
      " |-- ArrTime: double (nullable = true)\n",
      " |-- CRSArrTime: integer (nullable = true)\n",
      " |-- UniqueCarrier: string (nullable = true)\n",
      " |-- FlightNum: integer (nullable = true)\n",
      " |-- TailNum: string (nullable = true)\n",
      " |-- ActualElapsedTime: double (nullable = true)\n",
      " |-- CRSElapsedTime: double (nullable = true)\n",
      " |-- AirTime: double (nullable = true)\n",
      " |-- ArrDelay: double (nullable = true)\n",
      " |-- DepDelay: double (nullable = true)\n",
      " |-- Origin: string (nullable = true)\n",
      " |-- Dest: string (nullable = true)\n",
      " |-- Distance: integer (nullable = true)\n",
      " |-- TaxiIn: double (nullable = true)\n",
      " |-- TaxiOut: double (nullable = true)\n",
      " |-- Cancelled: integer (nullable = true)\n",
      " |-- CancellationCode: string (nullable = true)\n",
      " |-- Diverted: integer (nullable = true)\n",
      " |-- CarrierDelay: double (nullable = true)\n",
      " |-- WeatherDelay: double (nullable = true)\n",
      " |-- NASDelay: double (nullable = true)\n",
      " |-- SecurityDelay: double (nullable = true)\n",
      " |-- LateAircraftDelay: double (nullable = true)\n",
      "\n"
     ]
    }
   ],
   "source": [
    "df.printSchema()"
   ]
  },
  {
   "cell_type": "code",
   "execution_count": 5,
   "metadata": {},
   "outputs": [
    {
     "data": {
      "text/plain": [
       "['_c0',\n",
       " 'Year',\n",
       " 'Month',\n",
       " 'DayofMonth',\n",
       " 'DayOfWeek',\n",
       " 'DepTime',\n",
       " 'CRSDepTime',\n",
       " 'ArrTime',\n",
       " 'CRSArrTime',\n",
       " 'UniqueCarrier',\n",
       " 'FlightNum',\n",
       " 'TailNum',\n",
       " 'ActualElapsedTime',\n",
       " 'CRSElapsedTime',\n",
       " 'AirTime',\n",
       " 'ArrDelay',\n",
       " 'DepDelay',\n",
       " 'Origin',\n",
       " 'Dest',\n",
       " 'Distance',\n",
       " 'TaxiIn',\n",
       " 'TaxiOut',\n",
       " 'Cancelled',\n",
       " 'CancellationCode',\n",
       " 'Diverted',\n",
       " 'CarrierDelay',\n",
       " 'WeatherDelay',\n",
       " 'NASDelay',\n",
       " 'SecurityDelay',\n",
       " 'LateAircraftDelay']"
      ]
     },
     "execution_count": 5,
     "metadata": {},
     "output_type": "execute_result"
    }
   ],
   "source": [
    "df.columns"
   ]
  },
  {
   "cell_type": "markdown",
   "metadata": {},
   "source": [
    "let’s try some example queries against this data set. First, we’ll find all flights whose distance is greater than 1,000 miles:"
   ]
  },
  {
   "cell_type": "code",
   "execution_count": 6,
   "metadata": {},
   "outputs": [
    {
     "name": "stdout",
     "output_type": "stream",
     "text": [
      "+--------+------+-----------+\n",
      "|distance|origin|destination|\n",
      "+--------+------+-----------+\n",
      "|    4962|   EWR|        HNL|\n",
      "|    4962|   HNL|        EWR|\n",
      "|    4962|   HNL|        EWR|\n",
      "|    4962|   EWR|        HNL|\n",
      "|    4962|   EWR|        HNL|\n",
      "|    4962|   EWR|        HNL|\n",
      "|    4962|   EWR|        HNL|\n",
      "|    4962|   HNL|        EWR|\n",
      "|    4962|   EWR|        HNL|\n",
      "|    4962|   EWR|        HNL|\n",
      "+--------+------+-----------+\n",
      "only showing top 10 rows\n",
      "\n"
     ]
    }
   ],
   "source": [
    "spark.sql(\"\"\"SELECT Distance as distance, Origin as origin, Dest as destination\n",
    "             FROM us_delay_flights_tbl WHERE Distance > 1000\n",
    "             ORDER BY Distance DESC\"\"\").show(10)"
   ]
  },
  {
   "cell_type": "markdown",
   "metadata": {},
   "source": [
    "As the results show, all of the longest flights were between (DFW) and (FNT). Next, we’ll find all flights between San Francisco (SFO) and Chicago (ORD) with at least a two-hour delay:"
   ]
  },
  {
   "cell_type": "code",
   "execution_count": 7,
   "metadata": {},
   "outputs": [
    {
     "name": "stdout",
     "output_type": "stream",
     "text": [
      "+----------+------+------+-----------+\n",
      "|      date| delay|origin|destination|\n",
      "+----------+------+------+-----------+\n",
      "| 30/9/2008|1032.0|   SFO|        ORD|\n",
      "|14/10/2008| 841.0|   SFO|        ORD|\n",
      "| 27/7/2008| 831.0|   SFO|        ORD|\n",
      "|  4/1/2008| 779.0|   SFO|        ORD|\n",
      "| 30/9/2008| 759.0|   SFO|        ORD|\n",
      "| 31/1/2008| 733.0|   SFO|        ORD|\n",
      "| 15/2/2008| 707.0|   SFO|        ORD|\n",
      "| 15/7/2008| 671.0|   SFO|        ORD|\n",
      "| 17/2/2008| 669.0|   SFO|        ORD|\n",
      "| 31/1/2008| 668.0|   SFO|        ORD|\n",
      "+----------+------+------+-----------+\n",
      "only showing top 10 rows\n",
      "\n"
     ]
    }
   ],
   "source": [
    "spark.sql(\"\"\"SELECT CONCAT(dayOfMonth, '/', month, '/', year) as date, (ArrDelay + DepDelay) as delay, Origin as origin, Dest as destination\n",
    "             FROM us_delay_flights_tbl\n",
    "             WHERE (Origin = 'SFO') AND (Dest = 'ORD')\n",
    "             ORDER by delay DESC\"\"\").show(10)"
   ]
  },
  {
   "cell_type": "markdown",
   "metadata": {},
   "source": [
    "As with the DataFrame and Dataset APIs, with the `spark.sql` interface you can conduct common data analysis operations like those we explored in the previous chapter."
   ]
  },
  {
   "cell_type": "markdown",
   "metadata": {},
   "source": [
    "All three of the preceding SQL queries can be expressed with an equivalent Data‐Frame API query. For example, the first query can be expressed in the Python Data‐Frame API as:"
   ]
  },
  {
   "cell_type": "code",
   "execution_count": 8,
   "metadata": {},
   "outputs": [
    {
     "name": "stdout",
     "output_type": "stream",
     "text": [
      "+--------+--------+------+----+\n",
      "|ArrDelay|DepDelay|Origin|Dest|\n",
      "+--------+--------+------+----+\n",
      "|     9.0|     6.0|   EWR| HNL|\n",
      "|    99.0|    84.0|   HNL| EWR|\n",
      "|    14.0|    33.0|   HNL| EWR|\n",
      "|    48.0|    42.0|   EWR| HNL|\n",
      "|   -12.0|    11.0|   EWR| HNL|\n",
      "|    29.0|    61.0|   EWR| HNL|\n",
      "|     1.0|     8.0|   EWR| HNL|\n",
      "|   264.0|   228.0|   HNL| EWR|\n",
      "|    -7.0|    19.0|   EWR| HNL|\n",
      "|    -5.0|    10.0|   EWR| HNL|\n",
      "+--------+--------+------+----+\n",
      "only showing top 10 rows\n",
      "\n"
     ]
    }
   ],
   "source": [
    "# In Python\n",
    "from pyspark.sql.functions import col, desc\n",
    "\n",
    "(df.select(\"ArrDelay\", \"DepDelay\", \"Origin\", \"Dest\")\n",
    "    .where(col(\"distance\") > 1000)\n",
    "    .orderBy(desc(\"distance\"))).show(10)"
   ]
  },
  {
   "cell_type": "code",
   "execution_count": 9,
   "metadata": {},
   "outputs": [
    {
     "name": "stdout",
     "output_type": "stream",
     "text": [
      "+--------+--------+------+----+\n",
      "|ArrDelay|DepDelay|Origin|Dest|\n",
      "+--------+--------+------+----+\n",
      "|     9.0|     6.0|   EWR| HNL|\n",
      "|    99.0|    84.0|   HNL| EWR|\n",
      "|    14.0|    33.0|   HNL| EWR|\n",
      "|    48.0|    42.0|   EWR| HNL|\n",
      "|   -12.0|    11.0|   EWR| HNL|\n",
      "|    29.0|    61.0|   EWR| HNL|\n",
      "|     1.0|     8.0|   EWR| HNL|\n",
      "|   264.0|   228.0|   HNL| EWR|\n",
      "|    -7.0|    19.0|   EWR| HNL|\n",
      "|    -5.0|    10.0|   EWR| HNL|\n",
      "+--------+--------+------+----+\n",
      "only showing top 10 rows\n",
      "\n"
     ]
    }
   ],
   "source": [
    "# Or\n",
    "(df.select(\"ArrDelay\", \"DepDelay\", \"Origin\", \"Dest\")\n",
    "    .where(\"distance > 1000\")\n",
    "    .orderBy(\"distance\", ascending=False).show(10))"
   ]
  },
  {
   "cell_type": "markdown",
   "metadata": {},
   "source": [
    "To enable you to query structured data as shown in the preceding examples, Spark manages all the complexities of creating and managing views and tables, both in memory and on disk."
   ]
  },
  {
   "cell_type": "markdown",
   "metadata": {},
   "source": [
    "### SQL Tables and Views\n",
    "Tables hold data. Associated with each table in Spark is its relevant metadata, which is information about the table and its data: the schema, description, table name, database name, column names, partitions, physical location where the actual data resides, etc. All of this is stored in a central metastore.\n",
    "Instead of having a separate metastore for Spark tables, Spark by default uses the Apache Hive metastore, located at `/user/hive/warehouse`, to persist all the metadata about your tables. However, you may change the default location by setting the Spark config variable `spark.sql.warehouse.dir` to another location, which can be set to a local or external distributed storage.\n",
    "\n",
    "### Managed Versus UnmanagedTables\n",
    "Spark allows you to create two types of tables: managed and unmanaged. For a `managed` table, Spark manages both the metadata and the data in the file store. This could\n",
    "be a local filesystem, HDFS, or an object store such as Amazon S3 or Azure Blob. For an `unmanaged` table, Spark only manages the metadata, while you manage the data\n",
    "yourself in an external data source such as Cassandra.\n",
    "With a managed table, because Spark manages everything, a SQL command such as DROP TABLE `table_name` deletes both the metadata and the data. With an unmanaged table, the same command will delete only the metadata, not the actual data. We will look at some examples of how to create managed and unmanaged tables in the next section.\n",
    "\n",
    "### Creating SQL Databases and Tables\n",
    "By default, Spark creates tables under the default database. To create your own database name, you can issue a SQL command fromyour Spark application or notebook. Using the US flight delays data set, let’s create both a managed and an unmanaged table. To begin, we’ll create a database called `learn_spark_db` and tell Spark we want to use that database:"
   ]
  },
  {
   "cell_type": "code",
   "execution_count": 10,
   "metadata": {},
   "outputs": [
    {
     "data": {
      "text/plain": [
       "DataFrame[]"
      ]
     },
     "execution_count": 10,
     "metadata": {},
     "output_type": "execute_result"
    }
   ],
   "source": [
    "spark.sql(\"CREATE DATABASE IF NOT EXISTS learn_spark_db\")\n",
    "spark.sql(\"USE learn_spark_db\")"
   ]
  },
  {
   "cell_type": "markdown",
   "metadata": {},
   "source": [
    "From this point, any commands we issue in our application to create tables will result in the tables being created in this database and residing under the database name `learn_spark_db`.\n",
    "\n",
    "#### Creating a managed table\n",
    "To create a managed table within the database learn_spark_db, you can issue a SQL query like the following:"
   ]
  },
  {
   "cell_type": "code",
   "execution_count": 11,
   "metadata": {},
   "outputs": [
    {
     "data": {
      "text/plain": [
       "DataFrame[]"
      ]
     },
     "execution_count": 11,
     "metadata": {},
     "output_type": "execute_result"
    }
   ],
   "source": [
    "spark.sql('DROP TABLE IF EXISTS us_delay_flights_tbl')"
   ]
  },
  {
   "cell_type": "code",
   "execution_count": 12,
   "metadata": {},
   "outputs": [
    {
     "name": "stdout",
     "output_type": "stream",
     "text": [
      "+--------------+--------------------+-----------+\n",
      "|     namespace|           tableName|isTemporary|\n",
      "+--------------+--------------------+-----------+\n",
      "|learn_spark_db|us_delay_flights_tbl|      false|\n",
      "+--------------+--------------------+-----------+\n",
      "\n"
     ]
    }
   ],
   "source": [
    "spark.sql(\"SHOW TABLES;\").show()"
   ]
  },
  {
   "cell_type": "code",
   "execution_count": 13,
   "metadata": {},
   "outputs": [
    {
     "data": {
      "text/plain": [
       "DataFrame[]"
      ]
     },
     "execution_count": 13,
     "metadata": {},
     "output_type": "execute_result"
    }
   ],
   "source": [
    "# Using SQL\n",
    "spark.sql(\"\"\"CREATE TABLE IF NOT EXISTS managed_us_delay_flights_tbl (date STRING, delay INT,\n",
    "             distance INT, origin STRING, destination STRING)\"\"\")"
   ]
  },
  {
   "cell_type": "code",
   "execution_count": 14,
   "metadata": {},
   "outputs": [
    {
     "data": {
      "text/plain": [
       "False"
      ]
     },
     "execution_count": 14,
     "metadata": {},
     "output_type": "execute_result"
    }
   ],
   "source": [
    "spark.catalog.dropGlobalTempView(\"managed_us_delay_flights_tbl\")"
   ]
  },
  {
   "cell_type": "code",
   "execution_count": 15,
   "metadata": {},
   "outputs": [
    {
     "data": {
      "text/plain": [
       "DataFrame[]"
      ]
     },
     "execution_count": 15,
     "metadata": {},
     "output_type": "execute_result"
    }
   ],
   "source": [
    "spark.sql('DROP TABLE IF EXISTS managed_us_delay_flights_tbl')"
   ]
  },
  {
   "cell_type": "code",
   "execution_count": 16,
   "metadata": {},
   "outputs": [],
   "source": [
    "# Using Dataframe API\n",
    "# Path to our US flight delays CSV file\n",
    "csv_file = \"../data/DelayedFlights.csv\"\n",
    "\n",
    "# Schema as defined in the preceding example\n",
    "flights_df = spark.read.option(\"inferSchema\", \"true\").option(\"header\", \"true\").csv(csv_file)\n",
    "\n",
    "# flights_df.write.saveAsTable(\"managed_us_delay_flights_tbl\")"
   ]
  },
  {
   "cell_type": "code",
   "execution_count": 17,
   "metadata": {},
   "outputs": [
    {
     "data": {
      "text/plain": [
       "['_c0',\n",
       " 'Year',\n",
       " 'Month',\n",
       " 'DayofMonth',\n",
       " 'DayOfWeek',\n",
       " 'DepTime',\n",
       " 'CRSDepTime',\n",
       " 'ArrTime',\n",
       " 'CRSArrTime',\n",
       " 'UniqueCarrier',\n",
       " 'FlightNum',\n",
       " 'TailNum',\n",
       " 'ActualElapsedTime',\n",
       " 'CRSElapsedTime',\n",
       " 'AirTime',\n",
       " 'ArrDelay',\n",
       " 'DepDelay',\n",
       " 'Origin',\n",
       " 'Dest',\n",
       " 'Distance',\n",
       " 'TaxiIn',\n",
       " 'TaxiOut',\n",
       " 'Cancelled',\n",
       " 'CancellationCode',\n",
       " 'Diverted',\n",
       " 'CarrierDelay',\n",
       " 'WeatherDelay',\n",
       " 'NASDelay',\n",
       " 'SecurityDelay',\n",
       " 'LateAircraftDelay']"
      ]
     },
     "execution_count": 17,
     "metadata": {},
     "output_type": "execute_result"
    }
   ],
   "source": [
    "flights_df.columns"
   ]
  },
  {
   "cell_type": "code",
   "execution_count": 18,
   "metadata": {},
   "outputs": [
    {
     "name": "stdout",
     "output_type": "stream",
     "text": [
      "+---+----+-----+----------+---------+-------+----------+-------+----------+-------------+---------+-------+-----------------+--------------+-------+--------+--------+------+----+--------+------+-------+---------+----------------+--------+------------+------------+--------+-------------+-----------------+\n",
      "|_c0|Year|Month|DayofMonth|DayOfWeek|DepTime|CRSDepTime|ArrTime|CRSArrTime|UniqueCarrier|FlightNum|TailNum|ActualElapsedTime|CRSElapsedTime|AirTime|ArrDelay|DepDelay|Origin|Dest|Distance|TaxiIn|TaxiOut|Cancelled|CancellationCode|Diverted|CarrierDelay|WeatherDelay|NASDelay|SecurityDelay|LateAircraftDelay|\n",
      "+---+----+-----+----------+---------+-------+----------+-------+----------+-------------+---------+-------+-----------------+--------------+-------+--------+--------+------+----+--------+------+-------+---------+----------------+--------+------------+------------+--------+-------------+-----------------+\n",
      "|0  |2008|1    |3         |4        |2003.0 |1955      |2211.0 |2225      |WN           |335      |N712SW |128.0            |150.0         |116.0  |-14.0   |8.0     |IAD   |TPA |810     |4.0   |8.0    |0        |N               |0       |null        |null        |null    |null         |null             |\n",
      "|1  |2008|1    |3         |4        |754.0  |735       |1002.0 |1000      |WN           |3231     |N772SW |128.0            |145.0         |113.0  |2.0     |19.0    |IAD   |TPA |810     |5.0   |10.0   |0        |N               |0       |null        |null        |null    |null         |null             |\n",
      "+---+----+-----+----------+---------+-------+----------+-------+----------+-------------+---------+-------+-----------------+--------------+-------+--------+--------+------+----+--------+------+-------+---------+----------------+--------+------------+------------+--------+-------------+-----------------+\n",
      "only showing top 2 rows\n",
      "\n"
     ]
    }
   ],
   "source": [
    "flights_df.show(2, False)"
   ]
  },
  {
   "cell_type": "markdown",
   "metadata": {},
   "source": [
    "#### Creating an unmanaged table\n",
    "By contrast, you can create unmanaged tables from your own data sources—say, Parquet, CSV, or JSON files stored in a file store accessible to your Spark application.\n",
    "\n",
    "To create an unmanaged table from a data source such as a CSV file, in SQL use:"
   ]
  },
  {
   "cell_type": "code",
   "execution_count": 19,
   "metadata": {},
   "outputs": [
    {
     "data": {
      "text/plain": [
       "DataFrame[]"
      ]
     },
     "execution_count": 19,
     "metadata": {},
     "output_type": "execute_result"
    }
   ],
   "source": [
    "spark.sql(\"DROP TABLE IF EXISTS us_delay_flights_tbl\")"
   ]
  },
  {
   "cell_type": "code",
   "execution_count": 20,
   "metadata": {},
   "outputs": [],
   "source": [
    "# spark.sql(\"\"\"CREATE TABLE us_delay_flights_tbl(date STRING, delay INT,\n",
    "#                 distance INT, origin STRING, destination STRING)\n",
    "#                 USING csv OPTIONS (PATH\n",
    "#                 'departuredelays.csv')\"\"\")"
   ]
  },
  {
   "cell_type": "code",
   "execution_count": 21,
   "metadata": {},
   "outputs": [],
   "source": [
    "# Using Dataframe API\n",
    "(flights_df.write\n",
    "            .mode(\"overwrite\")\n",
    "            .saveAsTable(\"us_delay_flights_tbl\"))"
   ]
  },
  {
   "cell_type": "markdown",
   "metadata": {},
   "source": [
    "### Creating Views\n",
    "In addition to creating tables, Spark can create views on top of existing tables. Views can be global (visible across all SparkSessions on a given cluster) or session-scoped\n",
    "(visible only to a single SparkSession), and they are temporary: they disappear after your Spark application terminates.\n",
    "\n",
    "Creating views has a similar syntax to creating tables within a database. Once you create a view, you can query it as you would a table. The difference between a view and a\n",
    "table is that views don’t actually hold the data; tables persist after your Spark application terminates, but views disappear.\n",
    "\n",
    "You can create a view from an existing table using SQL. For example, if you wish to work on only the subset of the US flight delays data set with origin airports of New\n",
    "York (JFK) and San Francisco (SFO), the following queries will create global temporary and temporary views consisting of just that slice of the table:"
   ]
  },
  {
   "attachments": {},
   "cell_type": "raw",
   "metadata": {
    "vscode": {
     "languageId": "sql"
    }
   },
   "source": [
    "CREATE OR REPLACE GLOBAL TEMP VIEW us_origin_airport_SFO_global_tmp_view AS\n",
    "    SELECT date, delay, origin, destination from us_delay_flights_tbl WHERE\n",
    "    origin = 'SFO';"
   ]
  },
  {
   "cell_type": "code",
   "execution_count": 22,
   "metadata": {},
   "outputs": [
    {
     "name": "stdout",
     "output_type": "stream",
     "text": [
      "+-------+----+-----+----------+---------+-------+----------+-------+----------+-------------+---------+-------+-----------------+--------------+-------+--------+--------+------+----+--------+------+-------+---------+----------------+--------+------------+------------+--------+-------------+-----------------+\n",
      "|_c0    |Year|Month|DayofMonth|DayOfWeek|DepTime|CRSDepTime|ArrTime|CRSArrTime|UniqueCarrier|FlightNum|TailNum|ActualElapsedTime|CRSElapsedTime|AirTime|ArrDelay|DepDelay|Origin|Dest|Distance|TaxiIn|TaxiOut|Cancelled|CancellationCode|Diverted|CarrierDelay|WeatherDelay|NASDelay|SecurityDelay|LateAircraftDelay|\n",
      "+-------+----+-----+----------+---------+-------+----------+-------+----------+-------------+---------+-------+-----------------+--------------+-------+--------+--------+------+----+--------+------+-------+---------+----------------+--------+------------+------------+--------+-------------+-----------------+\n",
      "|4130166|2008|7    |26        |6        |1820.0 |1800      |1935.0 |1925      |AA           |1519     |N236AA |135.0            |145.0         |119.0  |10.0    |20.0    |DEN   |LAX |862     |3.0   |13.0   |0        |N               |0       |null        |null        |null    |null         |null             |\n",
      "|4130168|2008|7    |28        |1        |1809.0 |1800      |1928.0 |1925      |AA           |1519     |N474AA |139.0            |145.0         |117.0  |3.0     |9.0     |DEN   |LAX |862     |7.0   |15.0   |0        |N               |0       |null        |null        |null    |null         |null             |\n",
      "+-------+----+-----+----------+---------+-------+----------+-------+----------+-------------+---------+-------+-----------------+--------------+-------+--------+--------+------+----+--------+------+-------+---------+----------------+--------+------------+------------+--------+-------------+-----------------+\n",
      "only showing top 2 rows\n",
      "\n"
     ]
    }
   ],
   "source": [
    "df = spark.sql(\"\"\"SELECT * FROM us_delay_flights_tbl\"\"\").show(2, False)"
   ]
  },
  {
   "cell_type": "code",
   "execution_count": 23,
   "metadata": {},
   "outputs": [
    {
     "name": "stdout",
     "output_type": "stream",
     "text": [
      "+---------+-----+------+----+\n",
      "|     date|delay|Origin|Dest|\n",
      "+---------+-----+------+----+\n",
      "| 1/7/2008|271.0|   SFO| ORD|\n",
      "| 2/7/2008|140.0|   SFO| ORD|\n",
      "| 4/7/2008| 47.0|   SFO| ORD|\n",
      "| 7/7/2008|153.0|   SFO| ORD|\n",
      "|11/7/2008| 56.0|   SFO| ORD|\n",
      "|15/7/2008| 35.0|   SFO| ORD|\n",
      "|18/7/2008|428.0|   SFO| ORD|\n",
      "|19/7/2008|102.0|   SFO| ORD|\n",
      "|21/7/2008| 76.0|   SFO| ORD|\n",
      "|23/7/2008| 25.0|   SFO| ORD|\n",
      "|24/7/2008|144.0|   SFO| ORD|\n",
      "|25/7/2008| 81.0|   SFO| ORD|\n",
      "|27/7/2008|  4.0|   SFO| ORD|\n",
      "|28/7/2008|495.0|   SFO| ORD|\n",
      "| 1/7/2008| 48.0|   SFO| ORD|\n",
      "| 3/7/2008|  8.0|   SFO| ORD|\n",
      "| 4/7/2008| 14.0|   SFO| ORD|\n",
      "| 7/7/2008| 41.0|   SFO| ORD|\n",
      "|11/7/2008| 81.0|   SFO| ORD|\n",
      "|14/7/2008| 63.0|   SFO| ORD|\n",
      "+---------+-----+------+----+\n",
      "only showing top 20 rows\n",
      "\n"
     ]
    }
   ],
   "source": [
    "# In Python\n",
    "df_sfo = spark.sql(\"\"\"SELECT CONCAT(dayOfMonth, '/', month, '/', year) as date, (ArrDelay + DepDelay) as delay, Origin, Dest FROM\n",
    "                      us_delay_flights_tbl WHERE Origin = 'SFO'\"\"\")\n",
    "df_sfo.show()"
   ]
  },
  {
   "cell_type": "code",
   "execution_count": 24,
   "metadata": {},
   "outputs": [],
   "source": [
    "# Create a temporary and global temporary view\n",
    "# df_sfo.createOrReplaceGlobalTempView(\"us_origin_airport_SFO_global_tmp_view\")\n",
    "df_sfo.createOrReplaceTempView(\"us_origin_airport_SFO_tmp_view\")"
   ]
  },
  {
   "cell_type": "markdown",
   "metadata": {},
   "source": [
    "Once you’ve created these views, you can issue queries against them just as you would against a table. Keep in mind that when accessing a global temporary view you must use the prefix `global_temp.<view_name>`, because Spark creates global temporary views in a global temporary database called `global_temp.` For example:"
   ]
  },
  {
   "cell_type": "raw",
   "metadata": {
    "vscode": {
     "languageId": "sql"
    }
   },
   "source": [
    "-- (Global view)\n",
    "SELECT * FROM global_temp.us_origin_airport_SFO_global_tmp_view"
   ]
  },
  {
   "cell_type": "raw",
   "metadata": {
    "vscode": {
     "languageId": "sql"
    }
   },
   "source": [
    "SELECT * FROM us_origin_airport_SFO_global_tmp_view"
   ]
  },
  {
   "cell_type": "code",
   "execution_count": 25,
   "metadata": {},
   "outputs": [
    {
     "name": "stdout",
     "output_type": "stream",
     "text": [
      "+---------+-----+------+----+\n",
      "|     date|delay|Origin|Dest|\n",
      "+---------+-----+------+----+\n",
      "| 1/7/2008|271.0|   SFO| ORD|\n",
      "| 2/7/2008|140.0|   SFO| ORD|\n",
      "| 4/7/2008| 47.0|   SFO| ORD|\n",
      "| 7/7/2008|153.0|   SFO| ORD|\n",
      "|11/7/2008| 56.0|   SFO| ORD|\n",
      "|15/7/2008| 35.0|   SFO| ORD|\n",
      "|18/7/2008|428.0|   SFO| ORD|\n",
      "|19/7/2008|102.0|   SFO| ORD|\n",
      "|21/7/2008| 76.0|   SFO| ORD|\n",
      "|23/7/2008| 25.0|   SFO| ORD|\n",
      "|24/7/2008|144.0|   SFO| ORD|\n",
      "|25/7/2008| 81.0|   SFO| ORD|\n",
      "|27/7/2008|  4.0|   SFO| ORD|\n",
      "|28/7/2008|495.0|   SFO| ORD|\n",
      "| 1/7/2008| 48.0|   SFO| ORD|\n",
      "| 3/7/2008|  8.0|   SFO| ORD|\n",
      "| 4/7/2008| 14.0|   SFO| ORD|\n",
      "| 7/7/2008| 41.0|   SFO| ORD|\n",
      "|11/7/2008| 81.0|   SFO| ORD|\n",
      "|14/7/2008| 63.0|   SFO| ORD|\n",
      "+---------+-----+------+----+\n",
      "only showing top 20 rows\n",
      "\n"
     ]
    }
   ],
   "source": [
    "# spark.read.table(\"us_origin_airport_JFK_tmp_view\")\n",
    "# Or\n",
    "spark.sql(\"SELECT * FROM us_origin_airport_SFO_tmp_view\").show()"
   ]
  },
  {
   "cell_type": "markdown",
   "metadata": {},
   "source": [
    "#### Temporary views versus global temporary views\n",
    "\n",
    "The difference between temporary and global temporary views being subtle, it can be a source of mild confusion among developers new to Spark. A temporary view is tied to a single `SparkSession` within a Spark application. In contrast, a global temporary view is visible across multiple SparkSessions within a Spark application. Yes, you can create multiple SparkSessions within a single Spark application—this can be handy, for example, in cases where you want to access (and combine) data from two different SparkSessions that don’t share the same Hive metastore configurations."
   ]
  },
  {
   "cell_type": "markdown",
   "metadata": {},
   "source": [
    "### Viewing the Metadata\n",
    "Temporary views versus global temporary views The difference between temporary and global temporary views being subtle, it can be a source of mild confusion among developers new to Spark. A temporary view is tied to a single SparkSession within a Spark application. In contrast, a global temporary view is visible across multiple SparkSessions within a Spark application. Yes, you can create multiple SparkSessions within a single Spark application—this can be handy, for example, in cases where you want to access (and combine) data from two different SparkSessions that don’t share the same Hive metastore configurations."
   ]
  },
  {
   "cell_type": "code",
   "execution_count": 26,
   "metadata": {},
   "outputs": [
    {
     "data": {
      "text/plain": [
       "[Database(name='default', description='Default Hive database', locationUri='file:/C:/Users/dm/Documents/Github/training-bigdata-lab/Section%2005%20Apache%20Spark%20(PySpark)/spark-warehouse'),\n",
       " Database(name='learn_spark_db', description='', locationUri='file:/C:/Users/dm/Documents/Github/training-bigdata-lab/Section%2005%20Apache%20Spark%20(PySpark)/spark-warehouse/learn_spark_db.db')]"
      ]
     },
     "execution_count": 26,
     "metadata": {},
     "output_type": "execute_result"
    }
   ],
   "source": [
    "spark.catalog.listDatabases()"
   ]
  },
  {
   "cell_type": "code",
   "execution_count": 27,
   "metadata": {},
   "outputs": [
    {
     "data": {
      "text/plain": [
       "[Table(name='us_delay_flights_tbl', database='learn_spark_db', description=None, tableType='MANAGED', isTemporary=False),\n",
       " Table(name='us_origin_airport_sfo_tmp_view', database=None, description=None, tableType='TEMPORARY', isTemporary=True)]"
      ]
     },
     "execution_count": 27,
     "metadata": {},
     "output_type": "execute_result"
    }
   ],
   "source": [
    "spark.catalog.listTables()"
   ]
  },
  {
   "cell_type": "code",
   "execution_count": 28,
   "metadata": {},
   "outputs": [
    {
     "data": {
      "text/plain": [
       "[Column(name='_c0', description=None, dataType='int', nullable=True, isPartition=False, isBucket=False),\n",
       " Column(name='Year', description=None, dataType='int', nullable=True, isPartition=False, isBucket=False),\n",
       " Column(name='Month', description=None, dataType='int', nullable=True, isPartition=False, isBucket=False),\n",
       " Column(name='DayofMonth', description=None, dataType='int', nullable=True, isPartition=False, isBucket=False),\n",
       " Column(name='DayOfWeek', description=None, dataType='int', nullable=True, isPartition=False, isBucket=False),\n",
       " Column(name='DepTime', description=None, dataType='double', nullable=True, isPartition=False, isBucket=False),\n",
       " Column(name='CRSDepTime', description=None, dataType='int', nullable=True, isPartition=False, isBucket=False),\n",
       " Column(name='ArrTime', description=None, dataType='double', nullable=True, isPartition=False, isBucket=False),\n",
       " Column(name='CRSArrTime', description=None, dataType='int', nullable=True, isPartition=False, isBucket=False),\n",
       " Column(name='UniqueCarrier', description=None, dataType='string', nullable=True, isPartition=False, isBucket=False),\n",
       " Column(name='FlightNum', description=None, dataType='int', nullable=True, isPartition=False, isBucket=False),\n",
       " Column(name='TailNum', description=None, dataType='string', nullable=True, isPartition=False, isBucket=False),\n",
       " Column(name='ActualElapsedTime', description=None, dataType='double', nullable=True, isPartition=False, isBucket=False),\n",
       " Column(name='CRSElapsedTime', description=None, dataType='double', nullable=True, isPartition=False, isBucket=False),\n",
       " Column(name='AirTime', description=None, dataType='double', nullable=True, isPartition=False, isBucket=False),\n",
       " Column(name='ArrDelay', description=None, dataType='double', nullable=True, isPartition=False, isBucket=False),\n",
       " Column(name='DepDelay', description=None, dataType='double', nullable=True, isPartition=False, isBucket=False),\n",
       " Column(name='Origin', description=None, dataType='string', nullable=True, isPartition=False, isBucket=False),\n",
       " Column(name='Dest', description=None, dataType='string', nullable=True, isPartition=False, isBucket=False),\n",
       " Column(name='Distance', description=None, dataType='int', nullable=True, isPartition=False, isBucket=False),\n",
       " Column(name='TaxiIn', description=None, dataType='double', nullable=True, isPartition=False, isBucket=False),\n",
       " Column(name='TaxiOut', description=None, dataType='double', nullable=True, isPartition=False, isBucket=False),\n",
       " Column(name='Cancelled', description=None, dataType='int', nullable=True, isPartition=False, isBucket=False),\n",
       " Column(name='CancellationCode', description=None, dataType='string', nullable=True, isPartition=False, isBucket=False),\n",
       " Column(name='Diverted', description=None, dataType='int', nullable=True, isPartition=False, isBucket=False),\n",
       " Column(name='CarrierDelay', description=None, dataType='double', nullable=True, isPartition=False, isBucket=False),\n",
       " Column(name='WeatherDelay', description=None, dataType='double', nullable=True, isPartition=False, isBucket=False),\n",
       " Column(name='NASDelay', description=None, dataType='double', nullable=True, isPartition=False, isBucket=False),\n",
       " Column(name='SecurityDelay', description=None, dataType='double', nullable=True, isPartition=False, isBucket=False),\n",
       " Column(name='LateAircraftDelay', description=None, dataType='double', nullable=True, isPartition=False, isBucket=False)]"
      ]
     },
     "execution_count": 28,
     "metadata": {},
     "output_type": "execute_result"
    }
   ],
   "source": [
    "spark.catalog.listColumns(\"us_delay_flights_tbl\")"
   ]
  },
  {
   "cell_type": "markdown",
   "metadata": {},
   "source": [
    "### Caching SQL Tables\n",
    "We will discuss table caching stragies further later but for now, like DataFrames, you can cache and uncache SQL tables and views.\n",
    "In Spark 3.0, in addition to other options, you can specify a table as LAZY, meaning that it should only be cached when it is first used instead of immediately:"
   ]
  },
  {
   "cell_type": "raw",
   "metadata": {
    "vscode": {
     "languageId": "sql"
    }
   },
   "source": [
    "CACHE [LAZY] TABLE <table-name>\n",
    "--\n",
    "UNCACHE TABLE <table-name>"
   ]
  },
  {
   "cell_type": "markdown",
   "metadata": {},
   "source": [
    "### Reading Tables into DataFrames\n",
    "Often, data engineers build data pipelines as part of their regular data ingestion and ETL processes. They populate Spark SQL databases and tables with cleansed data for consumption by applications downstream.\n",
    "Let’s assume you have an existing database, `learn_spark_db`, and table, `us_delay_flights_tbl`, ready for use. Instead of reading from an external JSON file, you can simply use SQL to query the table and assign the returned result to a DataFrame:"
   ]
  },
  {
   "cell_type": "code",
   "execution_count": 29,
   "metadata": {},
   "outputs": [],
   "source": [
    "# us_flights_df = spark.sql(\"SELECT * FROM us_delay_flights_tbl\")\n",
    "us_flights_df2 = spark.table(\"us_delay_flights_tbl\")"
   ]
  },
  {
   "cell_type": "markdown",
   "metadata": {},
   "source": [
    "## Data Sources for DataFrames and SQL Tables\n",
    "Spark SQL provides an interface to a variety of data sources. It also provides a set of common methods for reading and writing data to and from these data sources using the <a href=\"https://www.databricks.com/blog/2015/01/09/spark-sql-data-sources-api-unified-data-access-for-the-spark-platform.html\">Data Sources API</a>.\n",
    "\n",
    "### DataFrameReader\n",
    "DataFrameReader is the core construct for reading data from a data source into a DataFrame. It has a defined format and a recommended pattern for usage:\n",
    "\n",
    "`DataFrameReader.format(args).option(\"key\", \"value\").schema(args).load()`\n",
    "\n",
    "Note that you can only access a DataFrameReader through a SparkSession instance. That is, you cannot create an instance of DataFrameReader. To get an instance handle to it, use:\n"
   ]
  },
  {
   "cell_type": "code",
   "execution_count": 30,
   "metadata": {},
   "outputs": [
    {
     "data": {
      "text/plain": [
       "<property at 0x1b626349950>"
      ]
     },
     "execution_count": 30,
     "metadata": {},
     "output_type": "execute_result"
    }
   ],
   "source": [
    "SparkSession.read\n",
    "# or\n",
    "SparkSession.readStream"
   ]
  },
  {
   "cell_type": "markdown",
   "metadata": {},
   "source": [
    "While `read` returns a handle to `DataFrameReader` to read into a DataFrame from a static data source, `readStream` returns an instance to read from a streaming source.\n",
    "\n",
    "| Method      | Arguments | Description     |\n",
    "| :----:      |    :----   |    :----:     |\n",
    "| format()      | \"parquet\", \"csv\", \"txt\", \"json\", \"jdbc\", \"orc\", \"avro\", etc.       | If you don’t specify this method, then the default is Parquet or whatever is set in spark.sql.sources.default.   |\n",
    "| option()   | (\"mode\", {PERMISSIVE , FAILFAST, DROPMALFORMED } ) (\"inferSchema\", {true , false}) (\"path\", \"path_file_data_source\")        | A series of key/value pairs and options. The Spark documentation shows some examples and explains the different modes and their actions. The default mode is PERMISSIVE. The \"inferSchema\" and \"mode\" options are specific to the JSON and CSV file formats.     |\n",
    "| schema()   | DDL String or StructType, e.g., 'A INT, B STRING' or StructType(...)        | For JSON or CSV format, you can specify to infer the schema in the option() method. Generally, providing a schema for any format makes loading faster and ensures your data conforms to the  expected schema.      |\n",
    "| load()   | \"/path/to/data/source\"        | The path to the data source. This can be empty if specified in option(\"path\", \"...\").     |"
   ]
  },
  {
   "cell_type": "code",
   "execution_count": 31,
   "metadata": {},
   "outputs": [
    {
     "name": "stdout",
     "output_type": "stream",
     "text": [
      "+-------+----+-----+----------+---------+-------+----------+-------+----------+-------------+---------+-------+-----------------+--------------+-------+--------+--------+------+----+--------+------+-------+---------+----------------+--------+------------+------------+--------+-------------+-----------------+\n",
      "|_c0    |Year|Month|DayofMonth|DayOfWeek|DepTime|CRSDepTime|ArrTime|CRSArrTime|UniqueCarrier|FlightNum|TailNum|ActualElapsedTime|CRSElapsedTime|AirTime|ArrDelay|DepDelay|Origin|Dest|Distance|TaxiIn|TaxiOut|Cancelled|CancellationCode|Diverted|CarrierDelay|WeatherDelay|NASDelay|SecurityDelay|LateAircraftDelay|\n",
      "+-------+----+-----+----------+---------+-------+----------+-------+----------+-------------+---------+-------+-----------------+--------------+-------+--------+--------+------+----+--------+------+-------+---------+----------------+--------+------------+------------+--------+-------------+-----------------+\n",
      "|4130166|2008|7    |26        |6        |1820.0 |1800      |1935.0 |1925      |AA           |1519     |N236AA |135.0            |145.0         |119.0  |10.0    |20.0    |DEN   |LAX |862     |3.0   |13.0   |0        |N               |0       |null        |null        |null    |null         |null             |\n",
      "+-------+----+-----+----------+---------+-------+----------+-------+----------+-------------+---------+-------+-----------------+--------------+-------+--------+--------+------+----+--------+------+-------+---------+----------------+--------+------------+------------+--------+-------------+-----------------+\n",
      "only showing top 1 row\n",
      "\n"
     ]
    }
   ],
   "source": [
    "# Parquet\n",
    "df = spark.read.format(\"parquet\").load(\"../data/us_flights_delay\")\n",
    "df.show(1, False)"
   ]
  },
  {
   "cell_type": "code",
   "execution_count": 32,
   "metadata": {},
   "outputs": [
    {
     "name": "stdout",
     "output_type": "stream",
     "text": [
      "+----+----+------+------+\n",
      "|key1|key2|value1|value2|\n",
      "+----+----+------+------+\n",
      "|one |a   |1     |2     |\n",
      "+----+----+------+------+\n",
      "only showing top 1 row\n",
      "\n"
     ]
    }
   ],
   "source": [
    "# CSV\n",
    "df3 = spark.read.format(\"csv\").option(\"inferSchema\", \"true\").option(\"header\", \"true\").option(\"mode\", \"PERMISSIVE\").load(\"../data/csv_mindex.csv\")\n",
    "df3.show(1, False)"
   ]
  },
  {
   "cell_type": "code",
   "execution_count": 33,
   "metadata": {},
   "outputs": [
    {
     "name": "stdout",
     "output_type": "stream",
     "text": [
      "+---+---+---+\n",
      "|a  |b  |c  |\n",
      "+---+---+---+\n",
      "|1  |2  |3  |\n",
      "+---+---+---+\n",
      "only showing top 1 row\n",
      "\n"
     ]
    }
   ],
   "source": [
    "# JSON\n",
    "df4 = spark.read.format(\"json\").load(\"../data/examplePYspark.json\")\n",
    "df4.show(1, False)"
   ]
  },
  {
   "cell_type": "markdown",
   "metadata": {},
   "source": [
    "<b>Note!</b> Parquet is the default and preferred data source for Spark because it’s efficient, uses columnar storage, and employs a fast compression algorithm."
   ]
  },
  {
   "cell_type": "markdown",
   "metadata": {},
   "source": [
    "### DataFrameWriter\n",
    "\n",
    "`DataFrameWriter` does the reverse of its counterpart: it saves or writes data to a specified built-in data source. Unlike with DataFrameReader, you access its instance not from a SparkSession but from the DataFrame you wish to save. It has a few recommended usage patterns:\n",
    "\n",
    "`DataFrameWriter.format(args).option(args).sortBy(args).saveAsTable(table)`\n",
    "\n",
    "| Method      | Arguments | Description     |\n",
    "| :----:      |    :----   |    :----:     |\n",
    "| format()      | \"parquet\", \"csv\", \"txt\", \"json\", \"jdbc\", \"orc\", \"avro\", etc.       | If you don’t specify this method, then the default is Parquet or whatever is set in spark.sql.sources.default.   |\n",
    "| option()   | (\"mode\", {append , overwrite, ignore , error or errorifexists} )(\"mode\", {SaveMode.Overwrite, SaveMode.Append, SaveMode.Ignore, SaveMode.ErrorIfExists}) (\"path\", \"path_to_write_to\")        | A series of key/value pairs and options. The Spark documentation shows some examples. This is an overloaded method. The default mode options are error or error ifexists and SaveMode.ErrorIfExists; they throw an exception at runtime if the data already exists.     |\n",
    "| bucketBy()   | (numBuckets, col, col...,col)        | The number of buckets and names of columns to bucket by. Uses Hive’s bucketing scheme on a filesystem.      |\n",
    "| save()   | \"/path/to/data/source\"        | The path to save to. This can be empty if specified in option(\"path\", \"...\").     |\n",
    "| saveAsTable()  | \"table_name\"            | The table to save to.|"
   ]
  },
  {
   "cell_type": "markdown",
   "metadata": {},
   "source": [
    "<b>Note!</b> You can find PARQUET options for DataFrameReader and DataFrameWriter in this <a href=\"https://spark.apache.org/docs/latest/sql-data-sources-parquet.html\">link</a>."
   ]
  },
  {
   "cell_type": "markdown",
   "metadata": {},
   "source": [
    "### Parquet\n",
    "Parquet, because it’s the default data source in Spark. Supported and widely used by many big data processing frameworks and platforms, Parquet is an open source columnar file format that offers many I/O optimizations (such as compression, which saves storage space and allows for quick access to data columns).\n",
    "Because of its efficiency and these optimizations, we recommend that after you have transformed and cleansed your data, you save your DataFrames in the Parquet format for downstream consumption.\n",
    "\n",
    "#### Reading Parquet files into a DataFrame\n",
    "Parquet files are stored in a directory structure that contains the data files, metadata, a number of compressed files, and some status files. Metadata in the footer contains\n",
    "the version of the file format, the schema, and column data such as the path, etc. For example, a directory in a Parquet file might contain a set of files like this:\n",
    "\n",
    "            _SUCCESS\n",
    "            _committed_1799640464332036264\n",
    "            _started_1799640464332036264\n",
    "            part-00000-tid-1799640464332036264-91273258-d7ef-4dc7-<...>-c000.snappy.parquet"
   ]
  },
  {
   "cell_type": "markdown",
   "metadata": {},
   "source": [
    "#### Reading Parquet files into a Spark SQL table\n",
    "As well as reading Parquet files into a Spark DataFrame, you can also create a Spark SQL unmanaged table or view directly using SQL:"
   ]
  },
  {
   "cell_type": "raw",
   "metadata": {
    "vscode": {
     "languageId": "sql"
    }
   },
   "source": [
    "-- In SQL\n",
    "CREATE OR REPLACE TEMPORARY VIEW us_delay_flights_tbl\n",
    "    USING parquet\n",
    "    OPTIONS (\n",
    "    path \"<path>\" )"
   ]
  },
  {
   "cell_type": "markdown",
   "metadata": {},
   "source": [
    "Once you’ve created the table or view, you can read data into a DataFrame using SQL, as we saw in some earlier examples:"
   ]
  },
  {
   "cell_type": "code",
   "execution_count": 34,
   "metadata": {},
   "outputs": [
    {
     "name": "stdout",
     "output_type": "stream",
     "text": [
      "+-------+----+-----+----------+---------+-------+----------+-------+----------+-------------+---------+-------+-----------------+--------------+-------+--------+--------+------+----+--------+------+-------+---------+----------------+--------+------------+------------+--------+-------------+-----------------+\n",
      "|    _c0|Year|Month|DayofMonth|DayOfWeek|DepTime|CRSDepTime|ArrTime|CRSArrTime|UniqueCarrier|FlightNum|TailNum|ActualElapsedTime|CRSElapsedTime|AirTime|ArrDelay|DepDelay|Origin|Dest|Distance|TaxiIn|TaxiOut|Cancelled|CancellationCode|Diverted|CarrierDelay|WeatherDelay|NASDelay|SecurityDelay|LateAircraftDelay|\n",
      "+-------+----+-----+----------+---------+-------+----------+-------+----------+-------------+---------+-------+-----------------+--------------+-------+--------+--------+------+----+--------+------+-------+---------+----------------+--------+------------+------------+--------+-------------+-----------------+\n",
      "|4130166|2008|    7|        26|        6| 1820.0|      1800| 1935.0|      1925|           AA|     1519| N236AA|            135.0|         145.0|  119.0|    10.0|    20.0|   DEN| LAX|     862|   3.0|   13.0|        0|               N|       0|        null|        null|    null|         null|             null|\n",
      "|4130168|2008|    7|        28|        1| 1809.0|      1800| 1928.0|      1925|           AA|     1519| N474AA|            139.0|         145.0|  117.0|     3.0|     9.0|   DEN| LAX|     862|   7.0|   15.0|        0|               N|       0|        null|        null|    null|         null|             null|\n",
      "|4130170|2008|    7|        30|        3| 1827.0|      1800| 1938.0|      1925|           AA|     1519| N546AA|            131.0|         145.0|  115.0|    13.0|    27.0|   DEN| LAX|     862|   4.0|   12.0|        0|               N|       0|        null|        null|    null|         null|             null|\n",
      "|4130173|2008|    7|         2|        3| 1305.0|      1135| 2127.0|      1950|           AA|     1520| N5DJAA|            322.0|         315.0|  282.0|    97.0|    90.0|   LAX| MIA|    2342|  13.0|   27.0|        0|               N|       0|         0.0|        80.0|     7.0|          0.0|             10.0|\n",
      "|4130177|2008|    7|         6|        7| 1241.0|      1135| 2030.0|      1950|           AA|     1520| N618AA|            289.0|         315.0|  274.0|    40.0|    66.0|   LAX| MIA|    2342|   3.0|   12.0|        0|               N|       0|        38.0|         0.0|     0.0|          0.0|              2.0|\n",
      "|4130180|2008|    7|         9|        3| 1331.0|      1135| 2136.0|      1950|           AA|     1520| N5DMAA|            305.0|         315.0|  278.0|   106.0|   116.0|   LAX| MIA|    2342|   5.0|   22.0|        0|               N|       0|        90.0|         0.0|     0.0|          0.0|             16.0|\n",
      "|4130181|2008|    7|        10|        4| 1416.0|      1135| 2229.0|      1950|           AA|     1520| N5FGAA|            313.0|         315.0|  284.0|   159.0|   161.0|   LAX| MIA|    2342|   6.0|   23.0|        0|               N|       0|       159.0|         0.0|     0.0|          0.0|              0.0|\n",
      "|4130183|2008|    7|        12|        6| 1150.0|      1135| 1951.0|      1950|           AA|     1520| N5DLAA|            301.0|         315.0|  276.0|     1.0|    15.0|   LAX| MIA|    2342|   7.0|   18.0|        0|               N|       0|        null|        null|    null|         null|             null|\n",
      "|4130185|2008|    7|        14|        1| 1152.0|      1135| 2007.0|      1950|           AA|     1520| N5DRAA|            315.0|         315.0|  290.0|    17.0|    17.0|   LAX| MIA|    2342|   9.0|   16.0|        0|               N|       0|         4.0|         0.0|     0.0|          0.0|             13.0|\n",
      "|4130186|2008|    7|        15|        2| 1144.0|      1135| 1950.0|      1950|           AA|     1520| N5CKAA|            306.0|         315.0|  289.0|     0.0|     9.0|   LAX| MIA|    2342|   5.0|   12.0|        0|               N|       0|        null|        null|    null|         null|             null|\n",
      "|4130188|2008|    7|        17|        4| 1149.0|      1135| 1950.0|      1950|           AA|     1520| N5EBAA|            301.0|         315.0|  278.0|     0.0|    14.0|   LAX| MIA|    2342|   6.0|   17.0|        0|               N|       0|        null|        null|    null|         null|             null|\n",
      "|4130191|2008|    7|        20|        7| 1141.0|      1135| 1940.0|      1950|           AA|     1520| N5DTAA|            299.0|         315.0|  274.0|   -10.0|     6.0|   LAX| MIA|    2342|   6.0|   19.0|        0|               N|       0|        null|        null|    null|         null|             null|\n",
      "|4130194|2008|    7|        23|        3| 1142.0|      1135| 1956.0|      1950|           AA|     1520| N5CKAA|            314.0|         315.0|  292.0|     6.0|     7.0|   LAX| MIA|    2342|   6.0|   16.0|        0|               N|       0|        null|        null|    null|         null|             null|\n",
      "|4130195|2008|    7|        24|        4| 1247.0|      1135| 2049.0|      1950|           AA|     1520| N5DMAA|            302.0|         315.0|  284.0|    59.0|    72.0|   LAX| MIA|    2342|   6.0|   12.0|        0|               N|       0|         0.0|        59.0|     0.0|          0.0|              0.0|\n",
      "|4130197|2008|    7|        26|        6| 1152.0|      1135| 2004.0|      1950|           AA|     1520| N624AA|            312.0|         315.0|  285.0|    14.0|    17.0|   LAX| MIA|    2342|  12.0|   15.0|        0|               N|       0|        null|        null|    null|         null|             null|\n",
      "|4130198|2008|    7|        27|        7| 1156.0|      1135| 2014.0|      1950|           AA|     1520| N638AA|            318.0|         315.0|  280.0|    24.0|    21.0|   LAX| MIA|    2342|  24.0|   14.0|        0|               N|       0|         2.0|         0.0|     3.0|          0.0|             19.0|\n",
      "|4130200|2008|    7|        29|        2| 1208.0|      1135| 2009.0|      1950|           AA|     1520| N638AA|            301.0|         315.0|  280.0|    19.0|    33.0|   LAX| MIA|    2342|   9.0|   12.0|        0|               N|       0|        19.0|         0.0|     0.0|          0.0|              0.0|\n",
      "|4130201|2008|    7|        30|        3| 1150.0|      1135| 2006.0|      1950|           AA|     1520| N638AA|            316.0|         315.0|  289.0|    16.0|    15.0|   LAX| MIA|    2342|  13.0|   14.0|        0|               N|       0|        15.0|         0.0|     1.0|          0.0|              0.0|\n",
      "|4130202|2008|    7|        31|        4| 1226.0|      1135| 2031.0|      1950|           AA|     1520| N5BWAA|            305.0|         315.0|  283.0|    41.0|    51.0|   LAX| MIA|    2342|   8.0|   14.0|        0|               N|       0|        41.0|         0.0|     0.0|          0.0|              0.0|\n",
      "|4130203|2008|    7|         1|        2| 1948.0|      1935| 2103.0|      2105|           AA|     1521| N4UCAA|            195.0|         210.0|  182.0|    -2.0|    13.0|   ORD| TUS|    1437|   5.0|    8.0|        0|               N|       0|        null|        null|    null|         null|             null|\n",
      "+-------+----+-----+----------+---------+-------+----------+-------+----------+-------------+---------+-------+-----------------+--------------+-------+--------+--------+------+----+--------+------+-------+---------+----------------+--------+------------+------------+--------+-------------+-----------------+\n",
      "only showing top 20 rows\n",
      "\n"
     ]
    }
   ],
   "source": [
    "spark.sql(\"SELECT * FROM us_delay_flights_tbl\").show()"
   ]
  },
  {
   "cell_type": "markdown",
   "metadata": {},
   "source": [
    "#### Writing DataFrames to Parquet files\n",
    "Writing or saving a DataFrame as a table or file is a common operation in Spark. To write a DataFrame you simply use the methods and arguments to the DataFrame\n",
    "Writer outlined earlier in this chapter, supplying the location to save the Parquet file to. For example:"
   ]
  },
  {
   "cell_type": "code",
   "execution_count": 35,
   "metadata": {},
   "outputs": [],
   "source": [
    "(df.write.format(\"parquet\")\n",
    "            .mode(\"overwrite\")\n",
    "            .option(\"compression\", \"snappy\")\n",
    "            .save(\"../data/parquet/df_parquet\"))"
   ]
  },
  {
   "cell_type": "markdown",
   "metadata": {},
   "source": [
    "#### Writing DataFrames to Spark SQL tables\n",
    "\n",
    "Writing a DataFrame to a SQL table is as easy as writing to a file just use `saveAsTable()` instead of `save()`. This will create a managed table called `us_delay_flights_tbl`:"
   ]
  },
  {
   "cell_type": "code",
   "execution_count": 36,
   "metadata": {},
   "outputs": [],
   "source": [
    "(df.write\n",
    "    .mode(\"overwrite\")\n",
    "    .saveAsTable(\"us_delay_flights_tbl\"))"
   ]
  },
  {
   "cell_type": "markdown",
   "metadata": {},
   "source": [
    "### JSON\n",
    "JavaScript Object Notation (JSON) is also a popular data format. It came to prominence as an easy-to-read and easy-to-parse format compared to XML. It has two representational\n",
    "formats: <a href=\"https://docs.databricks.com/external-data/json.html\">single-line mode and multiline mode</a>. Both modes are supported in Spark.\n",
    "\n",
    "#### Reading a JSON file into a DataFrame"
   ]
  },
  {
   "cell_type": "code",
   "execution_count": 37,
   "metadata": {},
   "outputs": [],
   "source": [
    "file = \"../data/examplePYspark.json\"\n",
    "df = spark.read.format(\"json\").load(file)"
   ]
  },
  {
   "cell_type": "code",
   "execution_count": 38,
   "metadata": {},
   "outputs": [
    {
     "name": "stdout",
     "output_type": "stream",
     "text": [
      "+---+---+---+\n",
      "|  a|  b|  c|\n",
      "+---+---+---+\n",
      "|  1|  2|  3|\n",
      "|  4|  5|  6|\n",
      "|  7|  8|  9|\n",
      "+---+---+---+\n",
      "\n"
     ]
    }
   ],
   "source": [
    "df.show()"
   ]
  },
  {
   "cell_type": "markdown",
   "metadata": {},
   "source": [
    "#### Reading a JSON file into a Spark SQL table"
   ]
  },
  {
   "cell_type": "raw",
   "metadata": {
    "vscode": {
     "languageId": "sql"
    }
   },
   "source": [
    "CREATE OR REPLACE TEMPORARY VIEW us_delay_flights_tbl\n",
    "    USING json\n",
    "    OPTIONS (\n",
    "    path \"<path>\")"
   ]
  },
  {
   "cell_type": "markdown",
   "metadata": {},
   "source": [
    "### CSV\n",
    "As widely used as plain text files, this common text file format captures each field delimited by a comma; each line with comma-separated fields represents a record. Even though a comma is the default separator, you may use other delimiters to separate fields in cases where commas are part of your data. Popular spreadsheets can generate CSV files, so it’s a popular format among data and business analysts.\n",
    "#### Reading a CSV file into a DataFrame"
   ]
  },
  {
   "cell_type": "code",
   "execution_count": 42,
   "metadata": {},
   "outputs": [],
   "source": [
    "file = \"../data/stock_px.csv\"\n",
    "schema = \"index date, AAPL float, MSFT float, XOM float, SPX float\"\n",
    "\n",
    "df = (spark.read.format(\"csv\")\n",
    "            .option(\"header\", \"true\")\n",
    "            .schema(schema)\n",
    "            .option(\"mode\", \"FAILFAST\") # Exit if any errors\n",
    "            .option(\"nullValue\", \"\") # Replace any null data field with quotes\n",
    "            .load(file))"
   ]
  },
  {
   "cell_type": "code",
   "execution_count": 43,
   "metadata": {},
   "outputs": [
    {
     "name": "stdout",
     "output_type": "stream",
     "text": [
      "+----------+----+-----+-----+------+\n",
      "|index     |AAPL|MSFT |XOM  |SPX   |\n",
      "+----------+----+-----+-----+------+\n",
      "|2003-01-02|7.4 |21.11|29.22|909.03|\n",
      "+----------+----+-----+-----+------+\n",
      "only showing top 1 row\n",
      "\n"
     ]
    }
   ],
   "source": [
    "df.show(1, False)"
   ]
  },
  {
   "cell_type": "markdown",
   "metadata": {},
   "source": [
    "#### Reading a CSV file into a Spark SQL table"
   ]
  },
  {
   "cell_type": "raw",
   "metadata": {
    "vscode": {
     "languageId": "sql"
    }
   },
   "source": [
    "CREATE OR REPLACE TEMPORARY VIEW us_delay_flights_tbl\n",
    "    USING csv\n",
    "    OPTIONS (\n",
    "    path \"/databricks-datasets/learning-spark-v2/flights/summary-data/csv/*\",\n",
    "    header \"true\",\n",
    "    inferSchema \"true\",\n",
    "    mode \"FAILFAST\"\n",
    "    )"
   ]
  },
  {
   "cell_type": "markdown",
   "metadata": {},
   "source": [
    "<b>Note!</b> You can find CSV options for DataFrameReader and DataFrameWriter in this <a href=\"https://spark.apache.org/docs/latest/sql-data-sources-csv.html\">link</a>.\n",
    "\n",
    "<b>Note!</b> For the full list of possible data sources check this <a href=\"https://spark.apache.org/docs/latest/sql-data-sources.html\">link</a>."
   ]
  }
 ],
 "metadata": {
  "kernelspec": {
   "display_name": "Python 3.8.15 ('spark38')",
   "language": "python",
   "name": "python3"
  },
  "language_info": {
   "codemirror_mode": {
    "name": "ipython",
    "version": 3
   },
   "file_extension": ".py",
   "mimetype": "text/x-python",
   "name": "python",
   "nbconvert_exporter": "python",
   "pygments_lexer": "ipython3",
   "version": "3.8.15"
  },
  "orig_nbformat": 4,
  "vscode": {
   "interpreter": {
    "hash": "9cc7abf6a71b1e36bffb4894f1eb166079ff0aa51aabb43b5623fbc056acdf8b"
   }
  }
 },
 "nbformat": 4,
 "nbformat_minor": 2
}
